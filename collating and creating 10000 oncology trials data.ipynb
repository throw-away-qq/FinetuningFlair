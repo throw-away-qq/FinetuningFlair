{
 "cells": [
  {
   "cell_type": "code",
   "execution_count": 1,
   "metadata": {},
   "outputs": [],
   "source": [
    "import pandas as pd\n",
    "import xml.etree.ElementTree as ET\n",
    "import os\n",
    "from tqdm import tqdm_notebook"
   ]
  },
  {
   "cell_type": "code",
   "execution_count": 2,
   "metadata": {},
   "outputs": [],
   "source": [
    "def section_name_text(section, root):\n",
    "    texts = []\n",
    "    for x in root.findall(section):\n",
    "        \n",
    "        txt = x.find(\"textblock\").text\n",
    "        texts.append(txt)\n",
    "    return texts\n",
    "\n",
    "\n",
    "def get_all_data(path, section):\n",
    "    data = []\n",
    "    nct_ids = []\n",
    "    for files in tqdm_notebook(os.listdir(path)):\n",
    "        if files.endswith(\".xml\"):\n",
    "    #         print (files)\n",
    "            tree = ET.parse(path+files)\n",
    "            root = tree.getroot()\n",
    "            nct_ids.append(files[:-4])\n",
    "            data.append(section_name_text(section = section, root = root))\n",
    "    \n",
    "    return nct_ids, data"
   ]
  },
  {
   "cell_type": "code",
   "execution_count": 3,
   "metadata": {},
   "outputs": [],
   "source": [
    "# load NCTids and their text \n",
    "path = 'C:\\\\Users\\\\Rajat\\\\Downloads\\\\oncology_trials\\\\'"
   ]
  },
  {
   "cell_type": "code",
   "execution_count": 4,
   "metadata": {},
   "outputs": [],
   "source": [
    "# data = []\n",
    "# nct_ids = []\n",
    "# # for files in tqdm_notebook(os.listdir(path)):\n",
    "# #     if files.endswith(\".xml\"):\n",
    "# # #         print (files)\n",
    "# #         tree = ET.parse(path+files)\n",
    "# #         root = tree.getroot()\n",
    "# #         nct_ids.append(files[:-4])\n",
    "# #         data.append(section_name_text(section = \"brief_summary\", root = root))\n",
    "        \n",
    "        \n",
    "# # #         break"
   ]
  },
  {
   "cell_type": "code",
   "execution_count": 5,
   "metadata": {},
   "outputs": [],
   "source": [
    "# nct_ids2, data2 = get_all_data(path = path, section = 'detailed_description')"
   ]
  },
  {
   "cell_type": "code",
   "execution_count": 69,
   "metadata": {},
   "outputs": [],
   "source": [
    "## need to remove excess whitespace in brief summary and detailed description"
   ]
  },
  {
   "cell_type": "code",
   "execution_count": 6,
   "metadata": {},
   "outputs": [],
   "source": [
    "# nct_ids3, data3 = get_all_data(path = path, section = './eligibility/criteria')"
   ]
  },
  {
   "cell_type": "code",
   "execution_count": 95,
   "metadata": {},
   "outputs": [],
   "source": [
    "import pandas as pd\n",
    "\n",
    "df = pd.DataFrame({\"brief_summary\":data,  \"eligibility\":data3})\n"
   ]
  },
  {
   "cell_type": "code",
   "execution_count": 96,
   "metadata": {},
   "outputs": [],
   "source": [
    "df.to_pickle(\"onco_10000_trials_bs_eligi.pkl\")"
   ]
  },
  {
   "cell_type": "code",
   "execution_count": null,
   "metadata": {},
   "outputs": [],
   "source": [
    "df2 = pd.DataFrame({\"onco_10000_trials_detailed_desc\"})"
   ]
  },
  {
   "cell_type": "code",
   "execution_count": 4,
   "metadata": {},
   "outputs": [],
   "source": [
    "import pandas as pd\n",
    "\n",
    "df = pd.read_pickle(\"onco_10000_trials_bs_eligi.pkl\")\n",
    "df2 = pd.read_pickle(\"onco_10000_trials_detailed_desc.pkl\")"
   ]
  },
  {
   "cell_type": "code",
   "execution_count": 5,
   "metadata": {},
   "outputs": [
    {
     "data": {
      "text/html": [
       "<div>\n",
       "<style scoped>\n",
       "    .dataframe tbody tr th:only-of-type {\n",
       "        vertical-align: middle;\n",
       "    }\n",
       "\n",
       "    .dataframe tbody tr th {\n",
       "        vertical-align: top;\n",
       "    }\n",
       "\n",
       "    .dataframe thead th {\n",
       "        text-align: right;\n",
       "    }\n",
       "</style>\n",
       "<table border=\"1\" class=\"dataframe\">\n",
       "  <thead>\n",
       "    <tr style=\"text-align: right;\">\n",
       "      <th></th>\n",
       "      <th>brief_summary</th>\n",
       "      <th>eligibility</th>\n",
       "    </tr>\n",
       "  </thead>\n",
       "  <tbody>\n",
       "    <tr>\n",
       "      <th>0</th>\n",
       "      <td>In 1997, the Genetics Department of the NCI M...</td>\n",
       "      <td>- INCLUSION CRITERIA: At least one of the fol...</td>\n",
       "    </tr>\n",
       "    <tr>\n",
       "      <th>1</th>\n",
       "      <td>RATIONALE: Estrogen can stimulate the growth ...</td>\n",
       "      <td>DISEASE CHARACTERISTICS: Operable, clinical S...</td>\n",
       "    </tr>\n",
       "    <tr>\n",
       "      <th>2</th>\n",
       "      <td>RATIONALE: Drugs used in chemotherapy use dif...</td>\n",
       "      <td>DISEASE CHARACTERISTICS: Histologically confi...</td>\n",
       "    </tr>\n",
       "    <tr>\n",
       "      <th>3</th>\n",
       "      <td>RATIONALE: Drugs used in chemotherapy use dif...</td>\n",
       "      <td>DISEASE CHARACTERISTICS: Histologically confi...</td>\n",
       "    </tr>\n",
       "    <tr>\n",
       "      <th>4</th>\n",
       "      <td>RATIONALE: Radiation therapy uses high-energy...</td>\n",
       "      <td>DISEASE CHARACTERISTICS: - Histologically or ...</td>\n",
       "    </tr>\n",
       "  </tbody>\n",
       "</table>\n",
       "</div>"
      ],
      "text/plain": [
       "                                       brief_summary  \\\n",
       "0   In 1997, the Genetics Department of the NCI M...   \n",
       "1   RATIONALE: Estrogen can stimulate the growth ...   \n",
       "2   RATIONALE: Drugs used in chemotherapy use dif...   \n",
       "3   RATIONALE: Drugs used in chemotherapy use dif...   \n",
       "4   RATIONALE: Radiation therapy uses high-energy...   \n",
       "\n",
       "                                         eligibility  \n",
       "0   - INCLUSION CRITERIA: At least one of the fol...  \n",
       "1   DISEASE CHARACTERISTICS: Operable, clinical S...  \n",
       "2   DISEASE CHARACTERISTICS: Histologically confi...  \n",
       "3   DISEASE CHARACTERISTICS: Histologically confi...  \n",
       "4   DISEASE CHARACTERISTICS: - Histologically or ...  "
      ]
     },
     "execution_count": 5,
     "metadata": {},
     "output_type": "execute_result"
    }
   ],
   "source": [
    "df.head()"
   ]
  },
  {
   "cell_type": "code",
   "execution_count": 6,
   "metadata": {},
   "outputs": [
    {
     "data": {
      "text/html": [
       "<div>\n",
       "<style scoped>\n",
       "    .dataframe tbody tr th:only-of-type {\n",
       "        vertical-align: middle;\n",
       "    }\n",
       "\n",
       "    .dataframe tbody tr th {\n",
       "        vertical-align: top;\n",
       "    }\n",
       "\n",
       "    .dataframe thead th {\n",
       "        text-align: right;\n",
       "    }\n",
       "</style>\n",
       "<table border=\"1\" class=\"dataframe\">\n",
       "  <thead>\n",
       "    <tr style=\"text-align: right;\">\n",
       "      <th></th>\n",
       "      <th>detailed_desc</th>\n",
       "    </tr>\n",
       "  </thead>\n",
       "  <tbody>\n",
       "    <tr>\n",
       "      <th>0</th>\n",
       "      <td>In October 1995 the National Naval Medical Ce...</td>\n",
       "    </tr>\n",
       "    <tr>\n",
       "      <th>1</th>\n",
       "      <td>OBJECTIVES: I. Determine, in a prospective, r...</td>\n",
       "    </tr>\n",
       "    <tr>\n",
       "      <th>2</th>\n",
       "      <td>OBJECTIVES: I. Determine whether adjuvant che...</td>\n",
       "    </tr>\n",
       "    <tr>\n",
       "      <th>3</th>\n",
       "      <td>OBJECTIVES: I. Determine the efficacy of prol...</td>\n",
       "    </tr>\n",
       "    <tr>\n",
       "      <th>4</th>\n",
       "      <td>OBJECTIVES: - Determine the maximum dose of e...</td>\n",
       "    </tr>\n",
       "  </tbody>\n",
       "</table>\n",
       "</div>"
      ],
      "text/plain": [
       "                                       detailed_desc\n",
       "0   In October 1995 the National Naval Medical Ce...\n",
       "1   OBJECTIVES: I. Determine, in a prospective, r...\n",
       "2   OBJECTIVES: I. Determine whether adjuvant che...\n",
       "3   OBJECTIVES: I. Determine the efficacy of prol...\n",
       "4   OBJECTIVES: - Determine the maximum dose of e..."
      ]
     },
     "execution_count": 6,
     "metadata": {},
     "output_type": "execute_result"
    }
   ],
   "source": [
    "df2.head()"
   ]
  },
  {
   "cell_type": "code",
   "execution_count": 13,
   "metadata": {},
   "outputs": [],
   "source": [
    "import re\n",
    "from gensim.parsing.preprocessing import strip_multiple_whitespaces\n",
    "def pad_spl_char(x):\n",
    "    temp = re.sub(\"([^A-Za-z0-9])\", r\" \\1 \", x)\n",
    "    temp = strip_multiple_whitespaces(temp)\n",
    "    return temp"
   ]
  },
  {
   "cell_type": "code",
   "execution_count": 9,
   "metadata": {},
   "outputs": [],
   "source": [
    "from flair.data import Dictionary, Sentence\n",
    "from flair.embeddings import FlairEmbeddings\n",
    "from flair.trainers.language_model_trainer import LanguageModelTrainer, TextCorpus"
   ]
  },
  {
   "cell_type": "code",
   "execution_count": 10,
   "metadata": {},
   "outputs": [],
   "source": [
    "# try checking embeddings for a word using basic flair embeddings"
   ]
  },
  {
   "cell_type": "code",
   "execution_count": 11,
   "metadata": {},
   "outputs": [
    {
     "name": "stdout",
     "output_type": "stream",
     "text": [
      "2020-04-11 11:27:47,127 https://s3.eu-central-1.amazonaws.com/alan-nlp/resources/embeddings-v0.4.1/big-news-forward--h2048-l1-d0.05-lr30-0.25-20/news-forward-0.4.1.pt not found in cache, downloading to C:\\Users\\Rajat\\AppData\\Local\\Temp\\tmp4eb1_jv_\n"
     ]
    },
    {
     "name": "stderr",
     "output_type": "stream",
     "text": [
      "100%|██████████████████████████████████████████████████████████████████| 73034624/73034624 [00:48<00:00, 1506695.92B/s]\n"
     ]
    },
    {
     "name": "stdout",
     "output_type": "stream",
     "text": [
      "2020-04-11 11:28:36,373 copying C:\\Users\\Rajat\\AppData\\Local\\Temp\\tmp4eb1_jv_ to cache at C:\\Users\\Rajat\\.flair\\embeddings\\news-forward-0.4.1.pt\n",
      "2020-04-11 11:28:36,448 removing temp file C:\\Users\\Rajat\\AppData\\Local\\Temp\\tmp4eb1_jv_\n"
     ]
    }
   ],
   "source": [
    "from flair.embeddings import FlairEmbeddings\n",
    "\n",
    "# init embedding\n",
    "flair_embedding_forward = FlairEmbeddings('news-forward')"
   ]
  },
  {
   "cell_type": "code",
   "execution_count": 14,
   "metadata": {},
   "outputs": [],
   "source": [
    "sent = pad_spl_char(df2['detailed_desc'].iloc[0])"
   ]
  },
  {
   "cell_type": "code",
   "execution_count": 16,
   "metadata": {},
   "outputs": [],
   "source": [
    "sent = sent.split(\" . \")[0]"
   ]
  },
  {
   "cell_type": "code",
   "execution_count": 17,
   "metadata": {},
   "outputs": [
    {
     "data": {
      "text/plain": [
       "' In October 1995 the National Naval Medical Center opened the only Department of Defense funded Breast Care Center ( BCC )'"
      ]
     },
     "execution_count": 17,
     "metadata": {},
     "output_type": "execute_result"
    }
   ],
   "source": [
    "sent"
   ]
  },
  {
   "cell_type": "code",
   "execution_count": 18,
   "metadata": {},
   "outputs": [],
   "source": [
    "sent = Sentence(sent)"
   ]
  },
  {
   "cell_type": "code",
   "execution_count": 19,
   "metadata": {},
   "outputs": [
    {
     "data": {
      "text/plain": [
       "Sentence: \"In October 1995 the National Naval Medical Center opened the only Department of Defense funded Breast Care Center ( BCC )\" - 21 Tokens"
      ]
     },
     "execution_count": 19,
     "metadata": {},
     "output_type": "execute_result"
    }
   ],
   "source": [
    "sent"
   ]
  },
  {
   "cell_type": "code",
   "execution_count": 20,
   "metadata": {},
   "outputs": [
    {
     "data": {
      "text/plain": [
       "[Sentence: \"In October 1995 the National Naval Medical Center opened the only Department of Defense funded Breast Care Center ( BCC )\" - 21 Tokens]"
      ]
     },
     "execution_count": 20,
     "metadata": {},
     "output_type": "execute_result"
    }
   ],
   "source": [
    "flair_embedding_forward.embed(sent)"
   ]
  },
  {
   "cell_type": "code",
   "execution_count": 21,
   "metadata": {},
   "outputs": [
    {
     "name": "stdout",
     "output_type": "stream",
     "text": [
      "Token: 1 In\n",
      "tensor([-2.8897e-03,  6.4223e-05,  8.0480e-02,  ...,  4.5965e-04,\n",
      "         7.9184e-03,  5.1303e-02], device='cuda:0')\n",
      "Token: 2 October\n",
      "tensor([ 1.1579e-03,  8.8407e-05,  3.3286e-02,  ..., -1.8462e-04,\n",
      "         4.2262e-04,  1.0005e-02], device='cuda:0')\n",
      "Token: 3 1995\n",
      "tensor([-2.4471e-03,  2.6607e-05,  4.0757e-02,  ...,  6.1409e-03,\n",
      "         5.8941e-04,  2.5543e-03], device='cuda:0')\n",
      "Token: 4 the\n",
      "tensor([-0.0008,  0.0010, -0.0087,  ...,  0.0008, -0.0391,  0.0125],\n",
      "       device='cuda:0')\n",
      "Token: 5 National\n",
      "tensor([-4.0181e-03,  1.3420e-04, -4.4264e-02,  ..., -4.6839e-05,\n",
      "        -7.0476e-02, -9.3853e-03], device='cuda:0')\n",
      "Token: 6 Naval\n",
      "tensor([-4.7951e-04,  1.1489e-04,  2.6887e-02,  ..., -6.4646e-05,\n",
      "         1.9543e-03, -1.4768e-03], device='cuda:0')\n",
      "Token: 7 Medical\n",
      "tensor([-0.0028,  0.0004, -0.0013,  ..., -0.0006,  0.0054,  0.0413],\n",
      "       device='cuda:0')\n",
      "Token: 8 Center\n",
      "tensor([ 0.0005, -0.0003, -0.0644,  ..., -0.0023,  0.0016,  0.0045],\n",
      "       device='cuda:0')\n",
      "Token: 9 opened\n",
      "tensor([-0.0007,  0.0003, -0.0019,  ...,  0.0008,  0.0036,  0.0035],\n",
      "       device='cuda:0')\n",
      "Token: 10 the\n",
      "tensor([-2.1997e-02,  2.6171e-05, -2.1638e-02,  ..., -2.4170e-03,\n",
      "        -2.3239e-02,  3.0550e-02], device='cuda:0')\n",
      "Token: 11 only\n",
      "tensor([-6.5539e-04,  7.6215e-05,  5.0267e-02,  ..., -1.4202e-02,\n",
      "         1.4912e-02,  4.5343e-03], device='cuda:0')\n",
      "Token: 12 Department\n",
      "tensor([ 0.0009,  0.0001,  0.0130,  ...,  0.0036, -0.0002,  0.0227],\n",
      "       device='cuda:0')\n",
      "Token: 13 of\n",
      "tensor([ 8.0527e-04, -2.5531e-06,  8.9187e-02,  ..., -3.9731e-05,\n",
      "         4.8932e-03,  2.0736e-03], device='cuda:0')\n",
      "Token: 14 Defense\n",
      "tensor([ 0.0003,  0.0038,  0.0052,  ..., -0.0018, -0.0041,  0.0011],\n",
      "       device='cuda:0')\n",
      "Token: 15 funded\n",
      "tensor([-2.6505e-05,  6.7977e-04,  2.2859e-02,  ..., -3.7742e-04,\n",
      "         1.1905e-02,  1.1854e-03], device='cuda:0')\n",
      "Token: 16 Breast\n",
      "tensor([-0.0039,  0.0048,  0.0147,  ..., -0.0006, -0.0004, -0.0099],\n",
      "       device='cuda:0')\n",
      "Token: 17 Care\n",
      "tensor([ 4.6949e-05,  1.0293e-03, -3.2191e-02,  ..., -6.1425e-04,\n",
      "        -3.3017e-06, -7.2312e-04], device='cuda:0')\n",
      "Token: 18 Center\n",
      "tensor([ 0.0006, -0.0002,  0.0313,  ..., -0.0026,  0.0012,  0.0062],\n",
      "       device='cuda:0')\n",
      "Token: 19 (\n",
      "tensor([-4.5103e-04, -6.9208e-04,  1.8556e-01,  ...,  3.6135e-06,\n",
      "        -4.4756e-03,  2.4145e-01], device='cuda:0')\n",
      "Token: 20 BCC\n",
      "tensor([ 7.0016e-04,  3.5966e-05,  7.2843e-02,  ..., -1.2511e-03,\n",
      "        -1.6273e-03,  5.5677e-03], device='cuda:0')\n",
      "Token: 21 )\n",
      "tensor([-2.2743e-03, -1.1998e-06,  1.2262e-01,  ..., -5.5857e-06,\n",
      "         2.1818e-02,  3.2076e-03], device='cuda:0')\n"
     ]
    }
   ],
   "source": [
    "for token in sent:\n",
    "    print (token\n",
    "    print (token.embedding)"
   ]
  },
  {
   "cell_type": "code",
   "execution_count": null,
   "metadata": {},
   "outputs": [],
   "source": [
    "from scipy.spatial.distance import cosine"
   ]
  },
  {
   "cell_type": "code",
   "execution_count": 23,
   "metadata": {},
   "outputs": [
    {
     "name": "stdout",
     "output_type": "stream",
     "text": [
      "2020-04-11 11:37:02,309 https://s3.eu-central-1.amazonaws.com/alan-nlp/resources/embeddings-v0.4.1/big-news-backward--h2048-l1-d0.05-lr30-0.25-20/news-backward-0.4.1.pt not found in cache, downloading to C:\\Users\\Rajat\\AppData\\Local\\Temp\\tmps0ps2_37\n"
     ]
    },
    {
     "name": "stderr",
     "output_type": "stream",
     "text": [
      "100%|██████████████████████████████████████████████████████████████████| 73034575/73034575 [00:26<00:00, 2808648.51B/s]\n"
     ]
    },
    {
     "name": "stdout",
     "output_type": "stream",
     "text": [
      "2020-04-11 11:37:29,140 copying C:\\Users\\Rajat\\AppData\\Local\\Temp\\tmps0ps2_37 to cache at C:\\Users\\Rajat\\.flair\\embeddings\\news-backward-0.4.1.pt\n",
      "2020-04-11 11:37:29,214 removing temp file C:\\Users\\Rajat\\AppData\\Local\\Temp\\tmps0ps2_37\n"
     ]
    }
   ],
   "source": [
    "\n",
    "flair_embedding_backward = FlairEmbeddings('news-backward')"
   ]
  },
  {
   "cell_type": "code",
   "execution_count": 26,
   "metadata": {},
   "outputs": [],
   "source": [
    "df2['detailed_desc'] = df2['detailed_desc'].apply(pad_spl_char)\n",
    "df['brief_summary'] = df['brief_summary'].apply(pad_spl_char)\n",
    "df['eligibility'] = df['eligibility'].apply(pad_spl_char)"
   ]
  },
  {
   "cell_type": "code",
   "execution_count": 33,
   "metadata": {},
   "outputs": [],
   "source": [
    "def create_train_test_text(df, colname, split = 7000):\n",
    "    \n",
    "    train_txt = \" . \".join(df[colname].iloc[:split])\n",
    "    test_txt = \" . \".join(df[colname].iloc[split:])\n",
    "    \n",
    "    return train_txt, test_txt"
   ]
  },
  {
   "cell_type": "code",
   "execution_count": 62,
   "metadata": {},
   "outputs": [],
   "source": [
    "train1, test1 = create_train_test_text(df2, 'detailed_desc')\n",
    "train2, test2 = create_train_test_text(df, 'brief_summary')\n",
    "train3, test3 = create_train_test_text(df, 'eligibility')"
   ]
  },
  {
   "cell_type": "code",
   "execution_count": 71,
   "metadata": {},
   "outputs": [],
   "source": [
    "with open(\"./corpus/train/train_split_1.txt\", \"w+\", encoding=\"utf-8\") as f:\n",
    "    f.write(train1)\n",
    "    f.close()\n",
    "    \n",
    "with open(\"./corpus/train/train_split_2.txt\", \"w+\", encoding=\"utf-8\") as f:\n",
    "    f.write(train2)\n",
    "    f.close()\n",
    "    \n",
    "with open(\"./corpus/train/train_split_3.txt\", \"w+\", encoding=\"utf-8\") as f:\n",
    "    f.write(train3)\n",
    "    f.close()\n",
    "    \n",
    "    \n",
    "with open(\"./corpus/test.txt\", \"w+\", encoding=\"utf-8\") as f:\n",
    "    f.write(test1)\n",
    "    f.close()\n",
    "    \n",
    "with open(\"./corpus/valid.txt\", \"w+\", encoding=\"utf-8\") as f:\n",
    "    f.write(test2)\n",
    "    f.close()"
   ]
  },
  {
   "cell_type": "code",
   "execution_count": null,
   "metadata": {},
   "outputs": [],
   "source": []
  },
  {
   "cell_type": "code",
   "execution_count": null,
   "metadata": {},
   "outputs": [],
   "source": []
  },
  {
   "cell_type": "code",
   "execution_count": 64,
   "metadata": {},
   "outputs": [],
   "source": [
    "# def replace_non_utf_signs(x):\n",
    "    \n",
    "#     string = re.sub(r\"\\u2265\", \"greater than or equal to\", x)\n",
    "#     string = re.sub(r\"\\u2264\", \"less than or equal to\", string)\n",
    "    \n",
    "#     return string"
   ]
  },
  {
   "cell_type": "code",
   "execution_count": 67,
   "metadata": {},
   "outputs": [
    {
     "data": {
      "text/plain": [
       "['.ipynb_checkpoints', 'test', 'train']"
      ]
     },
     "execution_count": 67,
     "metadata": {},
     "output_type": "execute_result"
    }
   ],
   "source": [
    "os.listdir(\"./corpus/\")"
   ]
  },
  {
   "cell_type": "code",
   "execution_count": null,
   "metadata": {},
   "outputs": [
    {
     "name": "stdout",
     "output_type": "stream",
     "text": [
      "2020-04-11 12:15:27,404 read text file with 1 lines\n",
      "2020-04-11 12:15:40,564 read text file with 1 lines\n",
      "2020-04-11 12:17:11,612 Sequence length is 100\n",
      "2020-04-11 12:17:11,705 Split 1\t - (12:17:11)\n",
      "2020-04-11 12:17:53,375 | split   1 /  3 |   100/ 1158 batches | ms/batch 416.61 | loss  0.95 | ppl     2.58\n",
      "2020-04-11 12:18:34,881 | split   1 /  3 |   200/ 1158 batches | ms/batch 415.05 | loss  0.86 | ppl     2.37\n",
      "2020-04-11 12:19:16,244 | split   1 /  3 |   300/ 1158 batches | ms/batch 413.61 | loss  0.82 | ppl     2.28\n",
      "2020-04-11 12:19:57,858 | split   1 /  3 |   400/ 1158 batches | ms/batch 416.13 | loss  0.82 | ppl     2.27\n",
      "2020-04-11 12:20:39,626 | split   1 /  3 |   500/ 1158 batches | ms/batch 417.67 | loss  0.80 | ppl     2.23\n",
      "2020-04-11 12:21:21,567 | split   1 /  3 |   600/ 1158 batches | ms/batch 419.39 | loss  0.79 | ppl     2.21\n",
      "2020-04-11 12:22:03,423 | split   1 /  3 |   700/ 1158 batches | ms/batch 418.51 | loss  0.77 | ppl     2.15\n",
      "2020-04-11 12:22:45,107 | split   1 /  3 |   800/ 1158 batches | ms/batch 416.82 | loss  0.77 | ppl     2.15\n",
      "2020-04-11 12:23:26,829 | split   1 /  3 |   900/ 1158 batches | ms/batch 417.21 | loss  0.76 | ppl     2.14\n",
      "2020-04-11 12:24:09,010 | split   1 /  3 |  1000/ 1158 batches | ms/batch 421.80 | loss  0.76 | ppl     2.14\n",
      "2020-04-11 12:24:50,832 | split   1 /  3 |  1100/ 1158 batches | ms/batch 418.20 | loss  0.77 | ppl     2.16\n",
      "2020-04-11 12:25:14,848 483 seconds for train split 1\n",
      "2020-04-11 12:25:41,991 best loss so far 10000.00\n",
      "2020-04-11 12:25:44,490 ('\\nIn another statistical analysis , the answer was so clear evaluation . The investigators will undertutheled the latter , heself , for pathology . We will test the combination of PK - 212 and KR2824 . Ms Chester was seen in this study comparing a blood response or schedule that consisted of serum macrophagal chemotherapy regimen for 5 sets of time to 6 days ahead of the treatment and these HPV cancer treatments are developed in this patient recruitment center . We propose to identify multicenter clinical study testing of principles obtained in the pathological reports on the SOMH not to garner further radiation with hypoxia combined with breast cancer risk with local temptation for detection of hormone receptor status by obtaining his condition . Results from this study will also be carried out in a large assortment of patients whose tumor chemotherapy status is controlled .  .  This project has been shown to compare the scale of creatinine gene induced binding activity at hospital stay', 18.7000546875)\n",
      "2020-04-11 12:25:44,824 -----------------------------------------------------------------------------------------\n",
      "2020-04-11 12:25:44,826 | end of split   1 /  3 | epoch   1 | time: 513.21s | valid loss  0.79 | valid ppl     2.19 | learning rate 20.0000\n",
      "2020-04-11 12:25:44,827 -----------------------------------------------------------------------------------------\n",
      "2020-04-11 12:25:44,840 Sequence length is 100\n",
      "2020-04-11 12:25:44,878 Split 2\t - (12:25:44)\n",
      "2020-04-11 12:26:26,850 | split   2 /  3 |   100/  397 batches | ms/batch 419.69 | loss  0.67 | ppl     1.95\n",
      "2020-04-11 12:27:08,420 | split   2 /  3 |   200/  397 batches | ms/batch 415.69 | loss  0.63 | ppl     1.88\n",
      "2020-04-11 12:27:50,048 | split   2 /  3 |   300/  397 batches | ms/batch 416.28 | loss  0.63 | ppl     1.87\n",
      "2020-04-11 12:28:30,028 165 seconds for train split 2\n",
      "2020-04-11 12:28:57,205 best loss so far  0.79\n",
      "2020-04-11 12:28:59,693 ('\\nThese forms use a \" limited \" rule form measured because both tumor markers and tumor refractory metastases are associated with other version profiles . The TOR reg profile often constitutes a new better strategy of trastuzumab than pemetrexed on mitoxantrone in human hormone - enhanced protein can occur in prostate cancer patients and developed by surgery . The aim of this study was at the website to see if it was detected to other 7x4 vessels used in combination with the Chandorperinomido transcript ( location guided by Bio Shore ) for a safe draw in different communities once and whether a taxane is superficially deora . Andreci Ampatuxirib ( 10mg ) : Varmalum artecat when used to take a large campus trophy , rarely carry DNA additional way . Preliminary information on radiation , oxaliplatide , and cisplatin gave weight loss to seen newsletter either , and continue to have a negative blood vessel threshold to supplement their margins in the blood left and read a smile . Treatment c', 17.597869140625)\n",
      "2020-04-11 12:29:00,043 -----------------------------------------------------------------------------------------\n",
      "2020-04-11 12:29:00,045 | end of split   2 /  3 | epoch   1 | time: 195.20s | valid loss  0.77 | valid ppl     2.16 | learning rate 20.0000\n",
      "2020-04-11 12:29:00,046 -----------------------------------------------------------------------------------------\n",
      "2020-04-11 12:29:00,051 Sequence length is 100\n",
      "2020-04-11 12:29:00,160 Split 3\t - (12:29:00)\n",
      "2020-04-11 12:29:42,185 | split   3 /  3 |   100/ 1350 batches | ms/batch 420.24 | loss  0.78 | ppl     2.18\n",
      "2020-04-11 12:30:23,792 | split   3 /  3 |   200/ 1350 batches | ms/batch 416.06 | loss  0.68 | ppl     1.98\n",
      "2020-04-11 12:31:05,375 | split   3 /  3 |   300/ 1350 batches | ms/batch 415.82 | loss  0.66 | ppl     1.93\n",
      "2020-04-11 12:31:46,982 | split   3 /  3 |   400/ 1350 batches | ms/batch 416.06 | loss  0.63 | ppl     1.88\n",
      "2020-04-11 12:32:28,603 | split   3 /  3 |   500/ 1350 batches | ms/batch 416.21 | loss  0.62 | ppl     1.86\n",
      "2020-04-11 12:33:10,180 | split   3 /  3 |   600/ 1350 batches | ms/batch 415.75 | loss  0.61 | ppl     1.83\n",
      "2020-04-11 12:33:51,788 | split   3 /  3 |   700/ 1350 batches | ms/batch 416.07 | loss  0.60 | ppl     1.82\n",
      "2020-04-11 12:34:33,400 | split   3 /  3 |   800/ 1350 batches | ms/batch 416.11 | loss  0.59 | ppl     1.81\n",
      "2020-04-11 12:35:15,006 | split   3 /  3 |   900/ 1350 batches | ms/batch 416.06 | loss  0.59 | ppl     1.81\n",
      "2020-04-11 12:35:56,613 | split   3 /  3 |  1000/ 1350 batches | ms/batch 416.06 | loss  0.58 | ppl     1.78\n",
      "2020-04-11 12:36:38,208 | split   3 /  3 |  1100/ 1350 batches | ms/batch 415.94 | loss  0.57 | ppl     1.77\n",
      "2020-04-11 12:37:19,804 | split   3 /  3 |  1200/ 1350 batches | ms/batch 415.94 | loss  0.57 | ppl     1.77\n",
      "2020-04-11 12:38:01,414 | split   3 /  3 |  1300/ 1350 batches | ms/batch 416.10 | loss  0.57 | ppl     1.77\n",
      "2020-04-11 12:38:22,159 562 seconds for train split 3\n",
      "2020-04-11 12:38:49,407 best loss so far  0.77\n",
      "2020-04-11 12:38:51,889 ('\\nPregnant or lactating women , study populations requiring alcohol ( consolidation ) within 12 weeks of the first dose of study treatment - Patients must a candidate for the treatmentment to survive and have a pregnancy ( ABC ) consent in prison may be without invasive treatment for any other cancer and not abstaining from all additional therapies to prolong study use in dialysis . - Patients with area histology responsible for this intervention in English .  .  Inclusion Criteria : - histologic diagnosis of gastric cancer - Cirrhosis - Concurrent concomitant medical illnesses such as familial peripheral neuropathy - Preexisting differences by their donors - Self - skeletal palliative requirements of the presence of screening - Received birth control diagnosis - Surgery - Concomitant missing communication of at least 14 weeks before randomization - History of serious or non - malignant syndromes which can contraindicate compliance with the rule of unamended requirements - Age of at give', 20.291826171875)\n",
      "2020-04-11 12:38:52,064 -----------------------------------------------------------------------------------------\n",
      "2020-04-11 12:38:52,066 | end of split   3 /  3 | epoch   1 | time: 592.01s | valid loss  0.89 | valid ppl     2.42 | learning rate 20.0000\n",
      "2020-04-11 12:38:52,067 -----------------------------------------------------------------------------------------\n",
      "2020-04-11 12:38:52,380 Epoch time: 1387.17\n",
      "2020-04-11 12:40:17,897 Sequence length is 100\n",
      "2020-04-11 12:40:17,998 Split 1\t - (12:40:17)\n",
      "2020-04-11 12:40:59,456 | split   1 /  3 |   100/ 1158 batches | ms/batch 414.43 | loss  0.78 | ppl     2.17\n",
      "2020-04-11 12:41:40,814 | split   1 /  3 |   200/ 1158 batches | ms/batch 413.56 | loss  0.74 | ppl     2.09\n",
      "2020-04-11 12:42:22,266 | split   1 /  3 |   300/ 1158 batches | ms/batch 414.51 | loss  0.71 | ppl     2.04\n",
      "2020-04-11 12:43:03,787 | split   1 /  3 |   400/ 1158 batches | ms/batch 415.20 | loss  0.72 | ppl     2.06\n",
      "2020-04-11 12:43:45,333 | split   1 /  3 |   500/ 1158 batches | ms/batch 415.45 | loss  0.72 | ppl     2.05\n",
      "2020-04-11 12:44:26,860 | split   1 /  3 |   600/ 1158 batches | ms/batch 415.25 | loss  0.71 | ppl     2.03\n",
      "2020-04-11 12:45:08,441 | split   1 /  3 |   700/ 1158 batches | ms/batch 415.81 | loss  0.69 | ppl     1.99\n",
      "2020-04-11 12:45:50,010 | split   1 /  3 |   800/ 1158 batches | ms/batch 415.67 | loss  0.70 | ppl     2.01\n",
      "2020-04-11 12:46:31,543 | split   1 /  3 |   900/ 1158 batches | ms/batch 415.32 | loss  0.69 | ppl     2.00\n",
      "2020-04-11 12:47:13,104 | split   1 /  3 |  1000/ 1158 batches | ms/batch 415.60 | loss  0.69 | ppl     2.00\n",
      "2020-04-11 12:47:54,693 | split   1 /  3 |  1100/ 1158 batches | ms/batch 415.88 | loss  0.71 | ppl     2.03\n",
      "2020-04-11 12:48:18,467 480 seconds for train split 1\n",
      "2020-04-11 12:48:45,706 best loss so far  0.77\n",
      "2020-04-11 12:48:48,185 ('\\nA subsequent drug development 3 Dose saline containing some measures documented PSI - 02436 intervention 1 . 8ng was collected previously . Participants will receive Free Fusion . If the test performed during this cold consuming day , their focus is on the main stain of the CNS discarded serum chain and will be harvested . PAL is intended ( Investigator design Neiphen Hells Being on the Ultrasound test Questionnaire ) : This design is designed to assess whether lapatinib / G - CaF and radiation therapy start 8 + / 2 + / compare to paclitaxel , irinotecan , oxaliplatin , and bevacizumab . In addition to the potential population of enteral cancer cell , high dose chemotherapy will continue until the maximum tolerated dose is reached . If C cells are diagnosed in 1 . 4 times a day , then up to 3 responses will also be conducted . The administration of ADMC 1 is required for the treatment failure .  .  To determine change in membrane antigens high risks for HHC this compatible , strongly c', 18.443072265625)\n",
      "2020-04-11 12:48:48,534 -----------------------------------------------------------------------------------------\n",
      "2020-04-11 12:48:48,535 | end of split   1 /  3 | epoch   2 | time: 510.64s | valid loss  0.74 | valid ppl     2.10 | learning rate 20.0000\n",
      "2020-04-11 12:48:48,536 -----------------------------------------------------------------------------------------\n",
      "2020-04-11 12:48:48,549 Sequence length is 100\n",
      "2020-04-11 12:48:48,661 Split 2\t - (12:48:48)\n",
      "2020-04-11 12:49:30,645 | split   2 /  3 |   100/ 1350 batches | ms/batch 419.82 | loss  0.59 | ppl     1.81\n",
      "2020-04-11 12:50:12,230 | split   2 /  3 |   200/ 1350 batches | ms/batch 415.84 | loss  0.55 | ppl     1.74\n",
      "2020-04-11 12:50:53,817 | split   2 /  3 |   300/ 1350 batches | ms/batch 415.86 | loss  0.55 | ppl     1.73\n",
      "2020-04-11 12:51:35,394 | split   2 /  3 |   400/ 1350 batches | ms/batch 415.76 | loss  0.54 | ppl     1.72\n",
      "2020-04-11 12:52:16,962 | split   2 /  3 |   500/ 1350 batches | ms/batch 415.68 | loss  0.54 | ppl     1.71\n",
      "2020-04-11 12:52:58,539 | split   2 /  3 |   600/ 1350 batches | ms/batch 415.76 | loss  0.53 | ppl     1.70\n",
      "2020-04-11 12:53:40,127 | split   2 /  3 |   700/ 1350 batches | ms/batch 415.87 | loss  0.53 | ppl     1.69\n",
      "2020-04-11 12:54:21,708 | split   2 /  3 |   800/ 1350 batches | ms/batch 415.80 | loss  0.53 | ppl     1.70\n",
      "2020-04-11 12:55:03,294 | split   2 /  3 |   900/ 1350 batches | ms/batch 415.85 | loss  0.53 | ppl     1.70\n",
      "2020-04-11 12:55:44,913 | split   2 /  3 |  1000/ 1350 batches | ms/batch 416.19 | loss  0.52 | ppl     1.68\n",
      "2020-04-11 12:56:26,524 | split   2 /  3 |  1100/ 1350 batches | ms/batch 416.09 | loss  0.52 | ppl     1.68\n",
      "2020-04-11 12:57:08,091 | split   2 /  3 |  1200/ 1350 batches | ms/batch 415.66 | loss  0.52 | ppl     1.68\n",
      "2020-04-11 12:57:49,688 | split   2 /  3 |  1300/ 1350 batches | ms/batch 415.96 | loss  0.52 | ppl     1.69\n",
      "2020-04-11 12:58:10,407 561 seconds for train split 2\n",
      "2020-04-11 12:58:37,557 best loss so far  0.74\n",
      "2020-04-11 12:58:40,156 ('\\nInterventions : subjects with good conditions calibration cannot be present at any time . - Uncontrolled concomitant anticoagulants . - Concurrent severe reaction due to medication likely to interpret their presence of appropriate markers of ulcerative colitis . - Locally advanced breast cancer . - Active infection alterations . - Active infection requiring antibiotics in an internet - controlled seizure disorder . - Patients with uncontrolled or significant renal insufficiency . - Prior chemotherapy , surgery , or radiotherapy . Ductal herbs ( s ) in the absence of disease . - Radiotherapy planned ≥ 25 % regardless of regimen by investigator ( especially patients who meet all of the following criteria : - CNPD in Body Parenchymal largecat disauted in the same institution located in its previously irradiated field or by total eligibility . While the origin of the study this product , pre - existing gastrointestinal disorders are eligible - Male or female patients in the last six months', 20.621484375)\n",
      "2020-04-11 12:58:40,330 -----------------------------------------------------------------------------------------\n",
      "2020-04-11 12:58:40,331 | end of split   2 /  3 | epoch   2 | time: 591.78s | valid loss  0.84 | valid ppl     2.32 | learning rate 20.0000\n",
      "2020-04-11 12:58:40,332 -----------------------------------------------------------------------------------------\n",
      "2020-04-11 12:58:40,347 Sequence length is 100\n",
      "2020-04-11 12:58:40,387 Split 3\t - (12:58:40)\n",
      "2020-04-11 12:59:22,386 | split   3 /  3 |   100/  397 batches | ms/batch 419.97 | loss  0.63 | ppl     1.87\n",
      "2020-04-11 13:00:03,953 | split   3 /  3 |   200/  397 batches | ms/batch 415.67 | loss  0.59 | ppl     1.81\n",
      "2020-04-11 13:00:45,555 | split   3 /  3 |   300/  397 batches | ms/batch 416.01 | loss  0.59 | ppl     1.80\n",
      "2020-04-11 13:01:25,548 165 seconds for train split 3\n",
      "2020-04-11 13:01:52,846 best loss so far  0.74\n",
      "2020-04-11 13:01:55,333 ('\\n5 ) Abrexylthymins that are associated with trastuzumab can bring aberrant densotinib , previous treatment initiation , to any side effects that can the potential normal literature facilitate progress between these patients . Cancers are high and second in relation to endometrial cancer treatment with daily hormonal therapy . Investigators will study the safety , procedure , and post - chemo duration Prescription Trial 1 ( preliminary indications about the response rate ) in patients with metastatic disease .  .  This study aims to test the feasibility and tradition of menopausal status as assessed by 1 . 2 ) type 1 genetic abuse ( Ceel / G1 ( HPV ) , BYEO , receptor positive manner patients and Eastern Cooperative Oncology Group ( ECOG ) performance status family ( s ) , chest x - ray , TNMs and PSA method .  .  This study will assess the safety profile of system - based CT to a presence of unstable neuropathy on romances treatment . We know that ii / GrouP II : a genetic laparoscopy ', 18.961763671875)\n",
      "2020-04-11 13:01:55,507 -----------------------------------------------------------------------------------------\n",
      "2020-04-11 13:01:55,509 | end of split   3 /  3 | epoch   2 | time: 195.16s | valid loss  0.74 | valid ppl     2.10 | learning rate 20.0000\n",
      "2020-04-11 13:01:55,510 -----------------------------------------------------------------------------------------\n",
      "2020-04-11 13:01:55,779 Epoch time: 1383.40\n",
      "2020-04-11 13:02:27,211 Sequence length is 100\n",
      "2020-04-11 13:02:27,246 Split 1\t - (13:02:27)\n",
      "2020-04-11 13:03:09,037 | split   1 /  3 |   100/  397 batches | ms/batch 417.72 | loss  0.56 | ppl     1.75\n",
      "2020-04-11 13:03:50,558 | split   1 /  3 |   200/  397 batches | ms/batch 415.20 | loss  0.55 | ppl     1.73\n",
      "2020-04-11 13:04:32,125 | split   1 /  3 |   300/  397 batches | ms/batch 415.66 | loss  0.55 | ppl     1.74\n",
      "2020-04-11 13:05:12,088 164 seconds for train split 1\n",
      "2020-04-11 13:05:39,353 best loss so far  0.74\n"
     ]
    },
    {
     "name": "stdout",
     "output_type": "stream",
     "text": [
      "2020-04-11 13:05:41,837 ('\\nBreast Magnetic Resonance ® ( FBA - DE ) extends the feasibility and minimally invasive tract bladder placement of patients that fit find out actual lung tumors ( particularly NSCLC ) , whereas clinical scores consist of a 3 patient remaining disease and for those who can be recruited a competent patient treatment of the oproxically divided Armitate implementation site . Study design : ( 2 ) diagnostic procedures and recruitment procedures will constitute : Current trial evaluation of local recurrence rate ( defined as blood pressure and SNB ) in endometrial cancer patients with gemcitabine and Cyclosporine and carboplatin .  .  This study evaluates the effect of trastuzumab when given with iMMD2012 and effect ( delivered later ) . Currently used effects that may depress the amount of administration Herceptin can be seen while recovering from the side effects and to stop tumor cells from growing . REQ 21 is a prospective , randomized , double blind , population trial , the last treatme', 20.135357421875)\n",
      "2020-04-11 13:05:42,011 -----------------------------------------------------------------------------------------\n",
      "2020-04-11 13:05:42,012 | end of split   1 /  3 | epoch   3 | time: 194.80s | valid loss  0.75 | valid ppl     2.11 | learning rate 20.0000\n",
      "2020-04-11 13:05:42,013 -----------------------------------------------------------------------------------------\n",
      "2020-04-11 13:05:42,019 Sequence length is 100\n",
      "2020-04-11 13:05:42,112 Split 2\t - (13:05:42)\n",
      "2020-04-11 13:06:24,207 | split   2 /  3 |   100/ 1158 batches | ms/batch 420.92 | loss  0.70 | ppl     2.02\n",
      "2020-04-11 13:07:05,867 | split   2 /  3 |   200/ 1158 batches | ms/batch 416.60 | loss  0.69 | ppl     1.99\n",
      "2020-04-11 13:07:47,554 | split   2 /  3 |   300/ 1158 batches | ms/batch 416.85 | loss  0.67 | ppl     1.95\n",
      "2020-04-11 13:08:29,204 | split   2 /  3 |   400/ 1158 batches | ms/batch 416.50 | loss  0.68 | ppl     1.97\n",
      "2020-04-11 13:09:10,876 | split   2 /  3 |   500/ 1158 batches | ms/batch 416.71 | loss  0.68 | ppl     1.96\n",
      "2020-04-11 13:09:52,544 | split   2 /  3 |   600/ 1158 batches | ms/batch 416.68 | loss  0.67 | ppl     1.95\n",
      "2020-04-11 13:10:34,209 | split   2 /  3 |   700/ 1158 batches | ms/batch 416.64 | loss  0.65 | ppl     1.92\n",
      "2020-04-11 13:11:15,879 | split   2 /  3 |   800/ 1158 batches | ms/batch 416.68 | loss  0.66 | ppl     1.94\n",
      "2020-04-11 13:11:57,548 | split   2 /  3 |   900/ 1158 batches | ms/batch 416.69 | loss  0.66 | ppl     1.93\n",
      "2020-04-11 13:12:39,236 | split   2 /  3 |  1000/ 1158 batches | ms/batch 416.87 | loss  0.66 | ppl     1.93\n",
      "2020-04-11 13:13:20,903 | split   2 /  3 |  1100/ 1158 batches | ms/batch 416.66 | loss  0.68 | ppl     1.97\n",
      "2020-04-11 13:13:44,745 482 seconds for train split 2\n",
      "2020-04-11 13:14:12,057 best loss so far  0.74\n",
      "2020-04-11 13:14:14,533 (\"\\nIn the latest cohort of patients with either CRC , patients with AR , once diagnosed with newly diagnosed pancreatic cancer , the end of the study will be performed . Study design : The hypothesis groups represent an improved prognosis with respect to the molecular basis of Bevacizumab monotherapy and the upregulation of the tumor beam . Main endpoints are to : 1 . The incidence of colorectal cancer defined as Oncotype Dx Sequencing test , decrease in the cost of care for screening for a large cohort of patients . To date based on the analysis to examine the patient ' s treatment and randomization in men in the Fusion test , this study will also use a two design encompassing how to investigate the understanding of the investigator ' s strategy , in condition and comparison of the Efficacy and Quality of Life Outcomes of Cosme and Loss . Since detailed construction accuracy ( RT ) is equivalent to 4 - 9 cm or higher due to cancer diagnosis and the unknown side effects of AZD0434 and the\", 19.145080078125)\n",
      "2020-04-11 13:14:14,878 -----------------------------------------------------------------------------------------\n",
      "2020-04-11 13:14:14,880 | end of split   2 /  3 | epoch   3 | time: 512.86s | valid loss  0.72 | valid ppl     2.05 | learning rate 20.0000\n",
      "2020-04-11 13:14:14,881 -----------------------------------------------------------------------------------------\n",
      "2020-04-11 13:14:14,894 Sequence length is 100\n",
      "2020-04-11 13:14:15,008 Split 3\t - (13:14:15)\n",
      "2020-04-11 13:14:57,071 | split   3 /  3 |   100/ 1350 batches | ms/batch 420.63 | loss  0.55 | ppl     1.74\n",
      "2020-04-11 13:15:38,685 | split   3 /  3 |   200/ 1350 batches | ms/batch 416.13 | loss  0.52 | ppl     1.68\n",
      "2020-04-11 13:16:20,285 | split   3 /  3 |   300/ 1350 batches | ms/batch 416.00 | loss  0.52 | ppl     1.67\n",
      "2020-04-11 13:17:01,888 | split   3 /  3 |   400/ 1350 batches | ms/batch 416.02 | loss  0.51 | ppl     1.66\n",
      "2020-04-11 13:17:43,476 | split   3 /  3 |   500/ 1350 batches | ms/batch 415.87 | loss  0.50 | ppl     1.66\n",
      "2020-04-11 13:18:25,091 | split   3 /  3 |   600/ 1350 batches | ms/batch 416.14 | loss  0.50 | ppl     1.65\n",
      "2020-04-11 13:19:06,687 | split   3 /  3 |   700/ 1350 batches | ms/batch 415.96 | loss  0.50 | ppl     1.64\n",
      "2020-04-11 13:19:48,342 | split   3 /  3 |   800/ 1350 batches | ms/batch 416.54 | loss  0.50 | ppl     1.65\n",
      "2020-04-11 13:20:29,968 | split   3 /  3 |   900/ 1350 batches | ms/batch 416.24 | loss  0.50 | ppl     1.65\n",
      "2020-04-11 13:21:11,557 | split   3 /  3 |  1000/ 1350 batches | ms/batch 415.88 | loss  0.49 | ppl     1.63\n",
      "2020-04-11 13:21:53,201 | split   3 /  3 |  1100/ 1350 batches | ms/batch 416.44 | loss  0.49 | ppl     1.63\n",
      "2020-04-11 13:22:34,812 | split   3 /  3 |  1200/ 1350 batches | ms/batch 416.10 | loss  0.49 | ppl     1.63\n",
      "2020-04-11 13:23:16,423 | split   3 /  3 |  1300/ 1350 batches | ms/batch 416.10 | loss  0.50 | ppl     1.64\n",
      "2020-04-11 13:23:37,172 562 seconds for train split 3\n",
      "2020-04-11 13:24:04,670 best loss so far  0.72\n",
      "2020-04-11 13:24:07,226 ('\\nUnforeseen limiting effects to high dose aspirin , such as steroid function ( needle steroids for blood pregnancy tests required , the patient must have a borderline resectable , superior bowel sampling ultrasound ( if sentinel node and pertinential ) 10 . 5 Disease incapable of completing the first docetaxel administration and has satisfactory frequency of grade 3 , and inferior liver function tests . NCI FFPE technique cannot be controlled by gene amplification . Phase IIA has been eligible without the potential for no documented disease progression in prior use of surgery such as radiation therapy or hormonal therapy . Patients must be post - menopausal based on estramustine phosphate equivalent ( Progressed following teratogenic or enrollment ) as demonstrated by a marked regional lymph nodes . - Elsewhere - Locally advanced or metastatic ( except for failure of breast conservation ( DCIS ) , curatively treated non - maligrated components of the primary tumor ) and recurrence due t', 20.53432421875)\n",
      "2020-04-11 13:24:07,400 -----------------------------------------------------------------------------------------\n",
      "2020-04-11 13:24:07,402 | end of split   3 /  3 | epoch   3 | time: 592.51s | valid loss  0.81 | valid ppl     2.25 | learning rate 20.0000\n",
      "2020-04-11 13:24:07,402 -----------------------------------------------------------------------------------------\n",
      "2020-04-11 13:24:07,666 Epoch time: 1331.89\n",
      "2020-04-11 13:25:33,130 Sequence length is 100\n",
      "2020-04-11 13:25:33,231 Split 1\t - (13:25:33)\n",
      "2020-04-11 13:26:14,814 | split   1 /  3 |   100/ 1158 batches | ms/batch 415.68 | loss  0.69 | ppl     2.00\n",
      "2020-04-11 13:26:56,591 | split   1 /  3 |   200/ 1158 batches | ms/batch 417.76 | loss  0.67 | ppl     1.95\n",
      "2020-04-11 13:27:38,231 | split   1 /  3 |   300/ 1158 batches | ms/batch 416.40 | loss  0.65 | ppl     1.91\n",
      "2020-04-11 13:28:20,028 | split   1 /  3 |   400/ 1158 batches | ms/batch 417.95 | loss  0.66 | ppl     1.93\n",
      "2020-04-11 13:29:01,632 | split   1 /  3 |   500/ 1158 batches | ms/batch 416.04 | loss  0.65 | ppl     1.92\n",
      "2020-04-11 13:29:43,237 | split   1 /  3 |   600/ 1158 batches | ms/batch 416.04 | loss  0.65 | ppl     1.91\n",
      "2020-04-11 13:30:24,871 | split   1 /  3 |   700/ 1158 batches | ms/batch 416.33 | loss  0.63 | ppl     1.88\n",
      "2020-04-11 13:31:06,503 | split   1 /  3 |   800/ 1158 batches | ms/batch 416.32 | loss  0.64 | ppl     1.90\n",
      "2020-04-11 13:31:48,129 | split   1 /  3 |   900/ 1158 batches | ms/batch 416.25 | loss  0.64 | ppl     1.89\n",
      "2020-04-11 13:32:29,763 | split   1 /  3 |  1000/ 1158 batches | ms/batch 416.33 | loss  0.64 | ppl     1.89\n",
      "2020-04-11 13:33:11,396 | split   1 /  3 |  1100/ 1158 batches | ms/batch 416.33 | loss  0.65 | ppl     1.92\n",
      "2020-04-11 13:33:35,208 482 seconds for train split 1\n",
      "2020-04-11 13:34:02,586 best loss so far  0.72\n",
      "2020-04-11 13:34:05,066 ('\\nKilwen Show : Resveratrol + hybrid PA - International Medicine ( IT ) , however , screening and quantification of the 1 . 4 ctDN - MRI scans performed 312 electronic hospital staff will also have no more than hand and central advantages in recent years and for at least 3 studies in intervention as part of the start of 6 months .  .  RHERVILLE , but a concomitant treatment of pain allowed an ovarian function test 4 . To help develop : Digital Affect Human Pleasure Analysis Characteristics : Significant reason for not believe that we can learn about pain related to prostate cancer treatment in the other group in double - stage , stage N1 - 3 stage , and the high - risk disease - related toxicity accounts for serious uncertainty of the medical history and non - responders . - This technology differs in tumor structures caused by ages . Mammalian epithelium - collateral melphalan ( at the discretion of the investigator ) is combined with injection of fibrin chemistry . More arrest investig', 19.013904296875)\n",
      "2020-04-11 13:34:05,411 -----------------------------------------------------------------------------------------\n",
      "2020-04-11 13:34:05,412 | end of split   1 /  3 | epoch   4 | time: 512.28s | valid loss  0.72 | valid ppl     2.05 | learning rate 20.0000\n",
      "2020-04-11 13:34:05,413 -----------------------------------------------------------------------------------------\n",
      "2020-04-11 13:34:05,426 Sequence length is 100\n",
      "2020-04-11 13:34:05,464 Split 2\t - (13:34:05)\n",
      "2020-04-11 13:34:47,432 | split   2 /  3 |   100/  397 batches | ms/batch 419.65 | loss  0.55 | ppl     1.74\n",
      "2020-04-11 13:35:29,003 | split   2 /  3 |   200/  397 batches | ms/batch 415.71 | loss  0.54 | ppl     1.71\n",
      "2020-04-11 13:36:10,554 | split   2 /  3 |   300/  397 batches | ms/batch 415.50 | loss  0.54 | ppl     1.71\n",
      "2020-04-11 13:36:50,522 165 seconds for train split 2\n",
      "2020-04-11 13:37:17,833 best loss so far  0.72\n",
      "2020-04-11 13:37:20,318 ('\\nAt the end of 2000 , the Sunshine Kleiner ( WXR108 ) Chi - 46 study ended with abiraterone acetate 1200 mg / m2 light beverage in 2010 Intensity modulated radiation Therapy ( OC ) in 2002 . The antitumor activity of the anthracycline ( G - CSF ) is recently reported to trigger progressive advances in local control and circulating tumor cells contributing to death among breast cancer patients and thus cure , that increased body image in breast cancer patients with prostate cancer reached an already limited distribution and value . Primary objective : 1 . To determine the sensitivity and specificity of the two vehicles that use : ( B ) onutesis transport , delivered effect on defense and sexual function , and to do from three point adjustments ( days 5 to 10 ) . If Indie ( i . e . , and TURBT ) is good power to gain exercise professor ( anxiety ) in lieu of cancer for 7 weeks , program development procedures are a trader who benefits from additional screening for estrogen receptor positi', 19.36950390625)\n",
      "2020-04-11 13:37:20,492 -----------------------------------------------------------------------------------------\n",
      "2020-04-11 13:37:20,494 | end of split   2 /  3 | epoch   4 | time: 195.07s | valid loss  0.72 | valid ppl     2.05 | learning rate 20.0000\n",
      "2020-04-11 13:37:20,495 -----------------------------------------------------------------------------------------\n",
      "2020-04-11 13:37:20,500 Sequence length is 100\n",
      "2020-04-11 13:37:20,609 Split 3\t - (13:37:20)\n",
      "2020-04-11 13:38:02,610 | split   3 /  3 |   100/ 1350 batches | ms/batch 419.99 | loss  0.52 | ppl     1.68\n",
      "2020-04-11 13:38:44,193 | split   3 /  3 |   200/ 1350 batches | ms/batch 415.83 | loss  0.49 | ppl     1.63\n",
      "2020-04-11 13:39:25,776 | split   3 /  3 |   300/ 1350 batches | ms/batch 415.82 | loss  0.49 | ppl     1.63\n",
      "2020-04-11 13:40:07,385 | split   3 /  3 |   400/ 1350 batches | ms/batch 416.07 | loss  0.48 | ppl     1.62\n",
      "2020-04-11 13:40:48,969 | split   3 /  3 |   500/ 1350 batches | ms/batch 415.83 | loss  0.48 | ppl     1.62\n",
      "2020-04-11 13:41:30,570 | split   3 /  3 |   600/ 1350 batches | ms/batch 416.00 | loss  0.48 | ppl     1.61\n",
      "2020-04-11 13:42:12,158 | split   3 /  3 |   700/ 1350 batches | ms/batch 415.88 | loss  0.48 | ppl     1.61\n",
      "2020-04-11 13:42:53,738 | split   3 /  3 |   800/ 1350 batches | ms/batch 415.79 | loss  0.48 | ppl     1.61\n",
      "2020-04-11 13:43:35,330 | split   3 /  3 |   900/ 1350 batches | ms/batch 415.91 | loss  0.48 | ppl     1.62\n",
      "2020-04-11 13:44:16,907 | split   3 /  3 |  1000/ 1350 batches | ms/batch 415.76 | loss  0.47 | ppl     1.60\n",
      "2020-04-11 13:44:58,493 | split   3 /  3 |  1100/ 1350 batches | ms/batch 415.86 | loss  0.47 | ppl     1.60\n",
      "2020-04-11 13:45:40,081 | split   3 /  3 |  1200/ 1350 batches | ms/batch 415.87 | loss  0.47 | ppl     1.60\n",
      "2020-04-11 13:46:21,676 | split   3 /  3 |  1300/ 1350 batches | ms/batch 415.94 | loss  0.48 | ppl     1.61\n",
      "2020-04-11 13:46:42,391 561 seconds for train split 3\n",
      "2020-04-11 13:47:09,660 best loss so far  0.72\n",
      "2020-04-11 13:47:12,144 ('\\n2 , 0 3 . Cohort A with a PSA 20 - 89 score of 60 - 000 on clinical basis via breast imaging 2 . Informed consent Agency Failure Adjuvant Chemotherapy Women ( ie / catheterization was completed 4 - 8 weeks ) 5 . Patients must be a candidate for palliative radiotherapy for gastric tumours or other cancer treatment by the treating oncologist . 3 . Patients with NSCLC alone Patient has measurable or neoadjuvant given as such a node negative for estradiol by both benign excision or device of SLNS - Evidence of severe lung disease , as defined by Response Evaluation Criteria in Solid Tumours ( VEGF ) or non - grade = N / A lesion addict . Exposure to FOLFIRI version 4 . 5 criteria expires at the time of registration on the first study treatment period and patients who subscribe within 90 days before the study used as an infusion period and / or the Yoga registry obtained - Patients with ATF ( HSP90 ) greater than low glandular symptoms without meaning Kentucky . - M = C / II . Previous trea', 19.5351171875)\n",
      "2020-04-11 13:47:12,319 -----------------------------------------------------------------------------------------\n",
      "2020-04-11 13:47:12,320 | end of split   3 /  3 | epoch   4 | time: 591.82s | valid loss  0.80 | valid ppl     2.23 | learning rate 20.0000\n",
      "2020-04-11 13:47:12,321 -----------------------------------------------------------------------------------------\n",
      "2020-04-11 13:47:12,590 Epoch time: 1384.92\n",
      "2020-04-11 13:48:38,686 Sequence length is 100\n",
      "2020-04-11 13:48:38,786 Split 1\t - (13:48:38)\n",
      "2020-04-11 13:49:20,335 | split   1 /  3 |   100/ 1158 batches | ms/batch 415.34 | loss  0.67 | ppl     1.95\n",
      "2020-04-11 13:50:01,680 | split   1 /  3 |   200/ 1158 batches | ms/batch 413.43 | loss  0.65 | ppl     1.91\n",
      "2020-04-11 13:50:43,144 | split   1 /  3 |   300/ 1158 batches | ms/batch 414.63 | loss  0.63 | ppl     1.88\n",
      "2020-04-11 13:51:24,677 | split   1 /  3 |   400/ 1158 batches | ms/batch 415.32 | loss  0.64 | ppl     1.90\n",
      "2020-04-11 13:52:06,240 | split   1 /  3 |   500/ 1158 batches | ms/batch 415.62 | loss  0.64 | ppl     1.89\n",
      "2020-04-11 13:52:47,814 | split   1 /  3 |   600/ 1158 batches | ms/batch 415.74 | loss  0.63 | ppl     1.88\n",
      "2020-04-11 13:53:29,410 | split   1 /  3 |   700/ 1158 batches | ms/batch 415.95 | loss  0.62 | ppl     1.85\n",
      "2020-04-11 13:54:10,998 | split   1 /  3 |   800/ 1158 batches | ms/batch 415.87 | loss  0.63 | ppl     1.87\n",
      "2020-04-11 13:54:52,601 | split   1 /  3 |   900/ 1158 batches | ms/batch 416.02 | loss  0.62 | ppl     1.86\n",
      "2020-04-11 13:55:34,194 | split   1 /  3 |  1000/ 1158 batches | ms/batch 415.93 | loss  0.62 | ppl     1.86\n"
     ]
    },
    {
     "name": "stdout",
     "output_type": "stream",
     "text": [
      "2020-04-11 13:56:15,798 | split   1 /  3 |  1100/ 1158 batches | ms/batch 416.02 | loss  0.64 | ppl     1.89\n",
      "2020-04-11 13:56:39,606 480 seconds for train split 1\n",
      "2020-04-11 13:57:06,899 best loss so far  0.72\n",
      "2020-04-11 13:57:09,385 ('\\nOver the past 80 - 79 days , R & D findings revealed that the AI is biologically highly immune constructed to the incidence of unusa targets . By investigating a variety of results for cancer therapy ) , eligible patients have been diagnosed with a strong induction chemotherapy and neoadjuvant treatment . We hypothesize that this finding indicates that a minimum of 3 patients per year have undergone cancer - related complications with each individual performance status is greater than 20 ng [ 2 ] . However , more than 20 % of the comparisons of radiotherapy alone increase rates of recurrence in patients treated with these regimens . Early diagnosis but determined its clinical benefit would lead to one chemotherapy strategy before surgery progress in the first - line treatment of breast cancer in suppression of the opposite involvement of prostate cancer . In the control arm , ovarian cancer patients will be accrued regularly for 2 - years sexual cancer treatment . All considerations fo', 21.0240078125)\n",
      "2020-04-11 13:57:09,736 -----------------------------------------------------------------------------------------\n",
      "2020-04-11 13:57:09,738 | end of split   1 /  3 | epoch   5 | time: 511.05s | valid loss  0.72 | valid ppl     2.05 | learning rate 20.0000\n",
      "2020-04-11 13:57:09,739 -----------------------------------------------------------------------------------------\n",
      "2020-04-11 13:57:09,751 Sequence length is 100\n",
      "2020-04-11 13:57:09,790 Split 2\t - (13:57:09)\n",
      "2020-04-11 13:57:51,794 | split   2 /  3 |   100/  397 batches | ms/batch 420.04 | loss  0.53 | ppl     1.71\n",
      "2020-04-11 13:58:33,384 | split   2 /  3 |   200/  397 batches | ms/batch 415.88 | loss  0.52 | ppl     1.69\n",
      "2020-04-11 13:59:14,983 | split   2 /  3 |   300/  397 batches | ms/batch 415.98 | loss  0.52 | ppl     1.69\n",
      "2020-04-11 13:59:54,982 165 seconds for train split 2\n",
      "2020-04-11 14:00:22,256 best loss so far  0.72\n",
      "2020-04-11 14:00:24,743 ('\\n\" It allows the patient to undergo curing and death 15 - 12 weeks after the last chemotherapy ) . On the other hand , the task - ander , consisting of a few routine clips , of associated with machine to the strength of the tumor . Subsequently , cardiac radiotherapy has been associated with the putation of the bladder to the breast . Recent studies demonstrating that hypermethylation , from stage I , II , and T2 to chronic toxicity , according to patient level because demand for cervical cancer patients ( 1 - 2 versus dose delivered a daily endoscopy [ tumor assessment upon extract ) is called the proportion of prediction models . Compliance with fewer patient clinical factors ( e . g . , fatigue from an active infection , screening ) for reducing the variations in the gene fused artery ( genistein ) and anal canal ; turnover killing burden in patients with prostate cancer .  .  The purpose of the study is to determine the safety and effects of gefitinib deploying chemotherapy in patie', 19.7733125)\n",
      "2020-04-11 14:00:24,915 -----------------------------------------------------------------------------------------\n",
      "2020-04-11 14:00:24,917 | end of split   2 /  3 | epoch   5 | time: 195.16s | valid loss  0.72 | valid ppl     2.05 | learning rate 20.0000\n",
      "2020-04-11 14:00:24,918 -----------------------------------------------------------------------------------------\n",
      "2020-04-11 14:00:24,923 Sequence length is 100\n",
      "2020-04-11 14:00:25,031 Split 3\t - (14:00:25)\n",
      "2020-04-11 14:01:07,100 | split   3 /  3 |   100/ 1350 batches | ms/batch 420.67 | loss  0.50 | ppl     1.65\n",
      "2020-04-11 14:01:48,777 | split   3 /  3 |   200/ 1350 batches | ms/batch 416.76 | loss  0.47 | ppl     1.60\n",
      "2020-04-11 14:02:30,440 | split   3 /  3 |   300/ 1350 batches | ms/batch 416.63 | loss  0.47 | ppl     1.61\n",
      "2020-04-11 14:03:12,107 | split   3 /  3 |   400/ 1350 batches | ms/batch 416.66 | loss  0.47 | ppl     1.59\n",
      "2020-04-11 14:03:53,788 | split   3 /  3 |   500/ 1350 batches | ms/batch 416.81 | loss  0.46 | ppl     1.59\n",
      "2020-04-11 14:04:35,447 | split   3 /  3 |   600/ 1350 batches | ms/batch 416.58 | loss  0.46 | ppl     1.58\n",
      "2020-04-11 14:05:17,130 | split   3 /  3 |   700/ 1350 batches | ms/batch 416.83 | loss  0.46 | ppl     1.58\n",
      "2020-04-11 14:05:58,800 | split   3 /  3 |   800/ 1350 batches | ms/batch 416.69 | loss  0.46 | ppl     1.58\n",
      "2020-04-11 14:06:40,459 | split   3 /  3 |   900/ 1350 batches | ms/batch 416.58 | loss  0.47 | ppl     1.60\n",
      "2020-04-11 14:07:22,136 | split   3 /  3 |  1000/ 1350 batches | ms/batch 416.77 | loss  0.46 | ppl     1.58\n",
      "2020-04-11 14:08:03,788 | split   3 /  3 |  1100/ 1350 batches | ms/batch 416.51 | loss  0.45 | ppl     1.57\n",
      "2020-04-11 14:08:45,468 | split   3 /  3 |  1200/ 1350 batches | ms/batch 416.80 | loss  0.46 | ppl     1.58\n",
      "2020-04-11 14:09:27,135 | split   3 /  3 |  1300/ 1350 batches | ms/batch 416.66 | loss  0.46 | ppl     1.59\n",
      "2020-04-11 14:09:47,919 562 seconds for train split 3\n",
      "2020-04-11 14:10:15,300 best loss so far  0.72\n",
      "2020-04-11 14:10:17,778 (\"\\nAcceptable vigorous events must be not preclude indication of insecurity and language nitrogen required for the criteria as documented by ovulation under mental condition by institutional guidelines . ) - At least 21 years of age who has not had a prior malignancy ( other than breast cancer ) , except for basal cell carcinoma of the skin within the last 5 years , excluding basal or squamous cell carcinomas of the skin - History of medical conditions that , in the opinion of the investigator , would compromise the subject ' s safety , and discontinue his planned treatment , and should not apply to the study as first - line treatment ( failure or immune / reactive ) Exclusion Criteria : - Acquired immunodeficiency syndrome - related problems At the time of randomization - Active infection requiring systemic treatment - Cystic abnormalities of hepatic disease - Patients with any of the following conditions in which palliative radiotherapy to the prostate ( gastroesophageal junction ) are \", 22.88778515625)\n",
      "2020-04-11 14:10:17,953 -----------------------------------------------------------------------------------------\n",
      "2020-04-11 14:10:17,955 | end of split   3 /  3 | epoch   5 | time: 593.03s | valid loss  0.80 | valid ppl     2.22 | learning rate 20.0000\n",
      "2020-04-11 14:10:17,956 -----------------------------------------------------------------------------------------\n",
      "2020-04-11 14:10:18,218 Epoch time: 1385.63\n",
      "2020-04-11 14:10:49,637 Sequence length is 100\n",
      "2020-04-11 14:10:49,678 Split 1\t - (14:10:49)\n",
      "2020-04-11 14:11:31,559 | split   1 /  3 |   100/  397 batches | ms/batch 418.66 | loss  0.54 | ppl     1.71\n",
      "2020-04-11 14:12:13,538 | split   1 /  3 |   200/  397 batches | ms/batch 419.78 | loss  0.52 | ppl     1.68\n",
      "2020-04-11 14:12:55,086 | split   1 /  3 |   300/  397 batches | ms/batch 415.47 | loss  0.51 | ppl     1.67\n",
      "2020-04-11 14:13:35,055 165 seconds for train split 1\n",
      "2020-04-11 14:14:02,324 best loss so far  0.72\n",
      "2020-04-11 14:14:04,806 ('\\nEastern Cooperative Oncology Group Patrol - Bid : Previous chemotherapy setting consists of a commercially developed dose - dense ( Taxotere ) - trial central CAM - KI index that is safe and well tolerated and is also by discussing toxicity , duration and functional Monday that exercise ( separate tablets ) tumor biopsies ( Cox - ray imaging , a third group will be performed ) . Our complete tumor assessment quality control values will be used to compare biopsy rates from the developed site . Study but Primary Randomisation Criteria : 1 . Serum PSA level for 0 . 5 - Gu delivered complete dense breast cancer ( I ) abnormal factors associated with urine dipstick fractures ( 0 . 4ml / min of the 3 diet prior to treatment change ) 9 . Prostate cancer metastases confirmed by collection of crystall and malad dendritis as giving medical record abstinence , the third course of chemoradiation , and the third A medical record abstract , depending on reiteration of distal gastric salt . After com', 19.62434765625)\n",
      "2020-04-11 14:14:04,982 -----------------------------------------------------------------------------------------\n",
      "2020-04-11 14:14:04,983 | end of split   1 /  3 | epoch   6 | time: 195.34s | valid loss  0.73 | valid ppl     2.08 | learning rate 20.0000\n",
      "2020-04-11 14:14:04,984 -----------------------------------------------------------------------------------------\n",
      "2020-04-11 14:14:04,990 Sequence length is 100\n",
      "2020-04-11 14:14:05,097 Split 2\t - (14:14:05)\n",
      "2020-04-11 14:14:47,158 | split   2 /  3 |   100/ 1350 batches | ms/batch 420.59 | loss  0.47 | ppl     1.59\n",
      "2020-04-11 14:15:28,792 | split   2 /  3 |   200/ 1350 batches | ms/batch 416.33 | loss  0.45 | ppl     1.56\n",
      "2020-04-11 14:16:10,400 | split   2 /  3 |   300/ 1350 batches | ms/batch 416.08 | loss  0.45 | ppl     1.57\n",
      "2020-04-11 14:16:52,023 | split   2 /  3 |   400/ 1350 batches | ms/batch 416.22 | loss  0.44 | ppl     1.56\n",
      "2020-04-11 14:17:33,651 | split   2 /  3 |   500/ 1350 batches | ms/batch 416.27 | loss  0.44 | ppl     1.55\n",
      "2020-04-11 14:18:15,288 | split   2 /  3 |   600/ 1350 batches | ms/batch 416.37 | loss  0.44 | ppl     1.55\n",
      "2020-04-11 14:18:56,893 | split   2 /  3 |   700/ 1350 batches | ms/batch 416.04 | loss  0.44 | ppl     1.55\n",
      "2020-04-11 14:19:38,512 | split   2 /  3 |   800/ 1350 batches | ms/batch 416.18 | loss  0.44 | ppl     1.56\n",
      "2020-04-11 14:20:20,153 | split   2 /  3 |   900/ 1350 batches | ms/batch 416.40 | loss  0.45 | ppl     1.57\n",
      "2020-04-11 14:21:01,792 | split   2 /  3 |  1000/ 1350 batches | ms/batch 416.38 | loss  0.44 | ppl     1.55\n",
      "2020-04-11 14:21:43,518 | split   2 /  3 |  1100/ 1350 batches | ms/batch 417.24 | loss  0.44 | ppl     1.55\n",
      "2020-04-11 14:22:25,114 | split   2 /  3 |  1200/ 1350 batches | ms/batch 415.96 | loss  0.44 | ppl     1.55\n",
      "2020-04-11 14:23:06,722 | split   2 /  3 |  1300/ 1350 batches | ms/batch 416.07 | loss  0.45 | ppl     1.56\n",
      "2020-04-11 14:23:27,449 562 seconds for train split 2\n",
      "2020-04-11 14:23:54,805 best loss so far  0.72\n",
      "2020-04-11 14:23:57,286 (\"\\nMeasurable disease , meeting one of the following criteria : primary tumor , creatinine , greater than or equal to 1 . 5 mL / min . - Patients must meet pre eligibility criteria . Cohorts will be eligible for treatment starting or are clinical Stage IV breast cancers on criteria as follows : - History of colon cancer - ISUSC > 70 - Gleason score ≤ 6 ; Hb > 8 . 0 Exclusion Criteria : - Treatment are not allowed for patients receiving radiation therapy . - Subjects treated with fusion vaccines in the investigator ' s opinion ( maintenance phase or who will not proceed to the end of chemotherapy as part of a newly diagnosed cancer ) or abnormal external beam radiotherapy . - Leukocyte count ≥ 1 , 500 cells / mm3 - Platelet count ≥ 100 000 / mm ³ Serum prothrombin time ( PT ) and alanine aminotransferase ( ALT ) ≤ 2 . 5 x ULN ( upper limit of normal ) . - Serum creatinine ≤ 1 . 5x ULN ( < = 5 . 5 x ULN if alkaline phosphatase - Proteinuria > 2 + ) - Urine dipstick for proteinuria > 2PT < 5\", 21.141107421875)\n",
      "2020-04-11 14:23:57,461 -----------------------------------------------------------------------------------------\n",
      "2020-04-11 14:23:57,462 | end of split   2 /  3 | epoch   6 | time: 592.47s | valid loss  0.81 | valid ppl     2.24 | learning rate 20.0000\n",
      "2020-04-11 14:23:57,463 -----------------------------------------------------------------------------------------\n",
      "2020-04-11 14:23:57,478 Sequence length is 100\n",
      "2020-04-11 14:23:57,578 Split 3\t - (14:23:57)\n",
      "2020-04-11 14:24:39,669 | split   3 /  3 |   100/ 1158 batches | ms/batch 420.90 | loss  0.66 | ppl     1.94\n",
      "2020-04-11 14:25:21,417 | split   3 /  3 |   200/ 1158 batches | ms/batch 417.45 | loss  0.64 | ppl     1.90\n",
      "2020-04-11 14:26:02,975 | split   3 /  3 |   300/ 1158 batches | ms/batch 415.57 | loss  0.62 | ppl     1.87\n",
      "2020-04-11 14:26:44,550 | split   3 /  3 |   400/ 1158 batches | ms/batch 415.75 | loss  0.63 | ppl     1.89\n",
      "2020-04-11 14:27:26,200 | split   3 /  3 |   500/ 1158 batches | ms/batch 416.49 | loss  0.63 | ppl     1.88\n",
      "2020-04-11 14:28:07,766 | split   3 /  3 |   600/ 1158 batches | ms/batch 415.65 | loss  0.62 | ppl     1.86\n",
      "2020-04-11 14:28:49,360 | split   3 /  3 |   700/ 1158 batches | ms/batch 415.93 | loss  0.61 | ppl     1.84\n",
      "2020-04-11 14:29:30,927 | split   3 /  3 |   800/ 1158 batches | ms/batch 415.66 | loss  0.62 | ppl     1.86\n",
      "2020-04-11 14:30:12,496 | split   3 /  3 |   900/ 1158 batches | ms/batch 415.69 | loss  0.61 | ppl     1.85\n",
      "2020-04-11 14:30:54,071 | split   3 /  3 |  1000/ 1158 batches | ms/batch 415.74 | loss  0.61 | ppl     1.85\n",
      "2020-04-11 14:31:35,630 | split   3 /  3 |  1100/ 1158 batches | ms/batch 415.58 | loss  0.63 | ppl     1.88\n",
      "2020-04-11 14:31:59,403 481 seconds for train split 3\n",
      "2020-04-11 14:32:26,681 best loss so far  0.72\n",
      "2020-04-11 14:32:29,165 ('\\nFurthermore , placement of a vaccine with CYP3A4 is activated by mTOR inhibitors even with an autologous dendritic cells treatment . Only those study agents were stratified into a low dose / or 364I - cell - va net type ( Glyckrone ) infusion . These results are cytopathological , some of them investigators will also applaud the state of the response rate . The investigators will utilize the Trial Observance / Report ( ICRR ) according to the purpose of the organic characteristics and explores prognostic value of PSA families .  .  This study aims to study whether your radiation therapy for less than 5 weeks is associated with hypercalcemia ; co - morbidities rather than which means palliative care us does TRUS stay carrying it . This strategy uses radiation therapy for nonmetastatic breast cancer to have her focus on the guidance of patients who have a positive FIT that may affect recurrence ( but not responded ) , or whether they would be controlled or stopped at any time about to be', 19.5559609375)\n",
      "2020-04-11 14:32:29,515 -----------------------------------------------------------------------------------------\n",
      "2020-04-11 14:32:29,517 | end of split   3 /  3 | epoch   6 | time: 512.04s | valid loss  0.71 | valid ppl     2.03 | learning rate 20.0000\n",
      "2020-04-11 14:32:29,518 -----------------------------------------------------------------------------------------\n",
      "2020-04-11 14:32:29,781 Epoch time: 1331.56\n",
      "2020-04-11 14:33:53,935 Sequence length is 100\n",
      "2020-04-11 14:33:54,034 Split 1\t - (14:33:54)\n",
      "2020-04-11 14:34:35,600 | split   1 /  3 |   100/ 1158 batches | ms/batch 415.50 | loss  0.91 | ppl     2.49\n",
      "2020-04-11 14:35:16,918 | split   1 /  3 |   200/ 1158 batches | ms/batch 413.18 | loss  0.71 | ppl     2.03\n",
      "2020-04-11 14:35:58,372 | split   1 /  3 |   300/ 1158 batches | ms/batch 414.53 | loss  0.67 | ppl     1.95\n",
      "2020-04-11 14:36:39,886 | split   1 /  3 |   400/ 1158 batches | ms/batch 415.13 | loss  0.67 | ppl     1.96\n",
      "2020-04-11 14:37:21,457 | split   1 /  3 |   500/ 1158 batches | ms/batch 415.70 | loss  0.66 | ppl     1.94\n",
      "2020-04-11 14:38:03,015 | split   1 /  3 |   600/ 1158 batches | ms/batch 415.56 | loss  0.65 | ppl     1.91\n",
      "2020-04-11 14:38:44,605 | split   1 /  3 |   700/ 1158 batches | ms/batch 415.89 | loss  0.63 | ppl     1.88\n"
     ]
    },
    {
     "name": "stdout",
     "output_type": "stream",
     "text": [
      "2020-04-11 14:39:26,180 | split   1 /  3 |   800/ 1158 batches | ms/batch 415.74 | loss  0.64 | ppl     1.89\n",
      "2020-04-11 14:40:07,778 | split   1 /  3 |   900/ 1158 batches | ms/batch 415.98 | loss  0.63 | ppl     1.88\n",
      "2020-04-11 14:40:49,358 | split   1 /  3 |  1000/ 1158 batches | ms/batch 415.79 | loss  0.63 | ppl     1.88\n",
      "2020-04-11 14:41:30,945 | split   1 /  3 |  1100/ 1158 batches | ms/batch 415.86 | loss  0.65 | ppl     1.91\n",
      "2020-04-11 14:41:54,731 480 seconds for train split 1\n",
      "2020-04-11 14:42:22,008 best loss so far  0.71\n",
      "2020-04-11 14:42:24,495 (\"\\nAT THE END OF 2013 THROUGH 1999 , THE PREVIOUS BIOLOGY STUDY THAT WILL HAVE IMPAIRED RATE OF NORMAL TISSUE SITES , BLOCKS , AND THE NATION ' S RESULTS . THOSE INITIALLY DETECTED BY HISTORY DIAGNOSES OCCURR AND THE HARD COPY NUMBER OF THE STEP IN THE DIAGNOSIS , DOES NOT APPLY AS CONTROLLED BY MAMMOGRAPHY . FOR AT LEAST 3 MONTHS , INTERVENTIONS TO MEASURE THE THREE SCALES COORDINATOR ' S SATISFACTION WITH CHEMOTHERAPY ( CYCLE 4 , DAYS 1 AND 8 , AND AT A PLANNING CHANGE IN TREATMENT CONSISTS OF TREATMENT CLOSER TO MEN DIAGNOSED AT ANY CASES ) WILL BE CHECKED FOR PHARMACOKINETIC INTERVENTION ( STATINS THAT HAVE SIGNIFICANT PROGNOSTIC AND PREDICTIVE VALUE IN THESE PATIENTS . [ 3 ] WAS COMPLETED WEEKLY FOR ONE T; 4 TIMES EVERY THEY EVERY 28 DAYS . TREATMENT INC . ( 4 CYCLES OF ADMINISTRATION ) , PATIENTS IN THE SAME CONDITION CALCULATED THAT ARM I AND ENORPOMETHAROL 600M . PART 1 IS A SAFETY VACCINATION FOLLOWING PRE - OPERATIVE CHEMORADIATION THERAPY . PATIENTS ARE ALSO INVITED TO A CLINIC\", 19.353888671875)\n",
      "2020-04-11 14:42:24,669 -----------------------------------------------------------------------------------------\n",
      "2020-04-11 14:42:24,671 | end of split   1 /  3 | epoch   7 | time: 510.73s | valid loss  2.06 | valid ppl     7.84 | learning rate 20.0000\n",
      "2020-04-11 14:42:24,672 -----------------------------------------------------------------------------------------\n",
      "2020-04-11 14:42:24,684 Sequence length is 100\n",
      "2020-04-11 14:42:24,797 Split 2\t - (14:42:24)\n",
      "2020-04-11 14:43:06,792 | split   2 /  3 |   100/ 1350 batches | ms/batch 419.94 | loss  0.53 | ppl     1.70\n",
      "2020-04-11 14:43:48,380 | split   2 /  3 |   200/ 1350 batches | ms/batch 415.88 | loss  0.46 | ppl     1.59\n",
      "2020-04-11 14:44:29,962 | split   2 /  3 |   300/ 1350 batches | ms/batch 415.81 | loss  0.46 | ppl     1.59\n",
      "2020-04-11 14:45:11,546 | split   2 /  3 |   400/ 1350 batches | ms/batch 415.83 | loss  0.45 | ppl     1.57\n",
      "2020-04-11 14:45:53,135 | split   2 /  3 |   500/ 1350 batches | ms/batch 415.88 | loss  0.45 | ppl     1.56\n",
      "2020-04-11 14:46:34,720 | split   2 /  3 |   600/ 1350 batches | ms/batch 415.84 | loss  0.44 | ppl     1.56\n",
      "2020-04-11 14:47:16,311 | split   2 /  3 |   700/ 1350 batches | ms/batch 415.91 | loss  0.44 | ppl     1.56\n",
      "2020-04-11 14:47:57,914 | split   2 /  3 |   800/ 1350 batches | ms/batch 416.02 | loss  0.44 | ppl     1.56\n",
      "2020-04-11 14:48:39,507 | split   2 /  3 |   900/ 1350 batches | ms/batch 415.92 | loss  0.45 | ppl     1.57\n",
      "2020-04-11 14:49:21,121 | split   2 /  3 |  1000/ 1350 batches | ms/batch 416.13 | loss  0.44 | ppl     1.55\n",
      "2020-04-11 14:50:02,702 | split   2 /  3 |  1100/ 1350 batches | ms/batch 415.81 | loss  0.43 | ppl     1.54\n",
      "2020-04-11 14:50:44,307 | split   2 /  3 |  1200/ 1350 batches | ms/batch 416.03 | loss  0.44 | ppl     1.55\n",
      "2020-04-11 14:51:25,893 | split   2 /  3 |  1300/ 1350 batches | ms/batch 415.85 | loss  0.44 | ppl     1.56\n",
      "2020-04-11 14:51:46,618 561 seconds for train split 2\n",
      "2020-04-11 14:52:13,869 best loss so far  0.71\n",
      "2020-04-11 14:52:16,354 ('\\nNo significant obstruction or obstructive pulmonary disease which can impact endometrial , function and skin as a mass in the body .  .  Inclusion Criteria : - Willingness to complete questionnaires : ability to understand and the willingness to complete the study . - Question : If you do qualify as part of your spouse , it finds its confirmation of informed consent . Exclusion Criteria : - > 18 years of age - reproductive capacity - high risk during chemotherapy , radiation therapy , and moderate intensity for only small cell family cardiac disease .  .  Inclusion Criteria : - Risk location less than 25 mm - Patient must sign an informed consent form which , in the judgment of the investigator , makes the patient unsuitable for the study or have any previous treatment with Abiraterone Finish , Uncertain Patient For Medical Management , Intention To Give Body Exformant Software ( MRI or PC - SPES ) . - Subjects with functional judgment of communication , lactation and successful ) due ', 21.389234375)\n",
      "2020-04-11 14:52:16,529 -----------------------------------------------------------------------------------------\n",
      "2020-04-11 14:52:16,530 | end of split   2 /  3 | epoch   7 | time: 591.85s | valid loss  0.79 | valid ppl     2.20 | learning rate 20.0000\n",
      "2020-04-11 14:52:16,531 -----------------------------------------------------------------------------------------\n",
      "2020-04-11 14:52:16,546 Sequence length is 100\n",
      "2020-04-11 14:52:16,585 Split 3\t - (14:52:16)\n",
      "2020-04-11 14:52:58,573 | split   3 /  3 |   100/  397 batches | ms/batch 419.86 | loss  0.54 | ppl     1.72\n",
      "2020-04-11 14:53:40,139 | split   3 /  3 |   200/  397 batches | ms/batch 415.65 | loss  0.52 | ppl     1.68\n",
      "2020-04-11 14:54:21,735 | split   3 /  3 |   300/  397 batches | ms/batch 415.95 | loss  0.52 | ppl     1.68\n",
      "2020-04-11 14:55:01,730 165 seconds for train split 3\n",
      "2020-04-11 14:55:28,953 best loss so far  0.71\n",
      "2020-04-11 14:55:31,437 (\"\\nIf a person ' s values are the response , documentation as compared to women with treatment status as assessed by the code phase of the study will be removed before starting treatment .  .  This study is being conducted aiming to proceed with the 2 ' 48 study euro - stage , defined as well to subject Based On the Regular Weekly French Regimen Index Periods .  .  Coagulation protein ( CKD ; PET ) , which relieves the radiation dissection and is therefore approved for patients with cancer  .  Diagnosis of metastatic disease is an important prognostic factor for cancer progression , but prevents these patients and to compare the several limits of daily living with the taxanes . The effect was discussed on the association of this up overweight , relatively significant complication ( PSA # 2 database ) in the early phase change . Therefore , the investigators develop a method of setting the investigators candidate for decision making the items and the overall function . The primary cancer h\", 19.99343359375)\n",
      "2020-04-11 14:55:31,620 -----------------------------------------------------------------------------------------\n",
      "2020-04-11 14:55:31,622 | end of split   3 /  3 | epoch   7 | time: 195.07s | valid loss  0.72 | valid ppl     2.06 | learning rate 20.0000\n",
      "2020-04-11 14:55:31,623 -----------------------------------------------------------------------------------------\n",
      "2020-04-11 14:55:31,890 Epoch time: 1382.11\n",
      "2020-04-11 14:56:57,477 Sequence length is 100\n",
      "2020-04-11 14:56:57,572 Split 1\t - (14:56:57)\n",
      "2020-04-11 14:57:39,188 | split   1 /  3 |   100/ 1158 batches | ms/batch 416.01 | loss  0.63 | ppl     1.88\n",
      "2020-04-11 14:58:20,630 | split   1 /  3 |   200/ 1158 batches | ms/batch 414.41 | loss  0.61 | ppl     1.85\n",
      "2020-04-11 14:59:02,186 | split   1 /  3 |   300/ 1158 batches | ms/batch 415.55 | loss  0.60 | ppl     1.82\n",
      "2020-04-11 14:59:43,794 | split   1 /  3 |   400/ 1158 batches | ms/batch 416.06 | loss  0.61 | ppl     1.84\n",
      "2020-04-11 15:00:25,454 | split   1 /  3 |   500/ 1158 batches | ms/batch 416.59 | loss  0.60 | ppl     1.83\n",
      "2020-04-11 15:01:07,130 | split   1 /  3 |   600/ 1158 batches | ms/batch 416.75 | loss  0.60 | ppl     1.82\n",
      "2020-04-11 15:01:48,815 | split   1 /  3 |   700/ 1158 batches | ms/batch 416.85 | loss  0.59 | ppl     1.80\n",
      "2020-04-11 15:02:30,485 | split   1 /  3 |   800/ 1158 batches | ms/batch 416.69 | loss  0.60 | ppl     1.82\n",
      "2020-04-11 15:03:12,168 | split   1 /  3 |   900/ 1158 batches | ms/batch 416.83 | loss  0.59 | ppl     1.80\n",
      "2020-04-11 15:03:53,881 | split   1 /  3 |  1000/ 1158 batches | ms/batch 417.11 | loss  0.59 | ppl     1.81\n",
      "2020-04-11 15:04:35,586 | split   1 /  3 |  1100/ 1158 batches | ms/batch 417.03 | loss  0.61 | ppl     1.83\n",
      "2020-04-11 15:04:59,438 481 seconds for train split 1\n",
      "2020-04-11 15:05:26,802 best loss so far  0.71\n",
      "2020-04-11 15:05:29,321 ('\\nIn recent years , we developed a DC - targeting image for thoracoacidomic technique - Use of glucocorticoids ( presence of irradiation of PC surface area ) helmet agent than with underutilized chemotherapy for the lung cancer . Moreover the efficacy of currently available chemotherapy regimens , in combination with oral capecitabine , with control chemotherapy reduced the acute and late toxicities of the trastuzumab and the placebo . A phase II clinical trial to evaluate the safety and feasibility of adjuvant chemotherapy compared to taxanes in adjuvant settings in patients who had disease progression . Endocrine therapy with radiotherapy did the same in month - 11 days . Everolimus is not ruled out and the study doctor treated a macronucleotide , Kinder Sylphe Women , will not be placed on the study . During the start of treatment , participants will be placed inside a pharmacy called Comparison Usual Behavior on Medication at the start on another booklet . This will be done in case o', 20.140638671875)\n",
      "2020-04-11 15:05:29,662 -----------------------------------------------------------------------------------------\n",
      "2020-04-11 15:05:29,664 | end of split   1 /  3 | epoch   8 | time: 512.19s | valid loss  0.70 | valid ppl     2.02 | learning rate 20.0000\n",
      "2020-04-11 15:05:29,664 -----------------------------------------------------------------------------------------\n",
      "2020-04-11 15:05:29,677 Sequence length is 100\n",
      "2020-04-11 15:05:29,715 Split 2\t - (15:05:29)\n",
      "2020-04-11 15:06:11,755 | split   2 /  3 |   100/  397 batches | ms/batch 420.38 | loss  0.50 | ppl     1.66\n",
      "2020-04-11 15:06:53,361 | split   2 /  3 |   200/  397 batches | ms/batch 416.05 | loss  0.49 | ppl     1.64\n",
      "2020-04-11 15:07:34,968 | split   2 /  3 |   300/  397 batches | ms/batch 416.07 | loss  0.49 | ppl     1.64\n",
      "2020-04-11 15:08:14,997 165 seconds for train split 2\n",
      "2020-04-11 15:08:42,297 best loss so far  0.70\n",
      "2020-04-11 15:08:44,813 ('\\nThis culturally - based registry will an advance personal treatment protocol for patients with triple negative breast cancer diagnosed with advanced breast cancer . For women who are at increased risk of recurrence can large enteral function such as radiation treatment and treatment with chemotherapy , as well as for patients in an untip medical document where breast tissue are attractive . This specific cancer has spread beyond diameter . Docetaxel with a recommended phase two n s Chemotherapy scheme to block the recovery of recurrence due to residual pN0 ( partial or complete response ) rates after treatment with aNthracycline and taxane - containing neoadjuvant chemotherapy ( ADT ) . However the superiority of the study drug placed in the study is well established , and part of extensive imaging systems reports effects on average risk when using excision and urinary changes they could possibly eventually become poor because they show disadvantages over conventional therapy . New tum', 21.52376953125)\n",
      "2020-04-11 15:08:44,994 -----------------------------------------------------------------------------------------\n",
      "2020-04-11 15:08:44,995 | end of split   2 /  3 | epoch   8 | time: 195.32s | valid loss  0.72 | valid ppl     2.06 | learning rate 20.0000\n",
      "2020-04-11 15:08:44,996 -----------------------------------------------------------------------------------------\n",
      "2020-04-11 15:08:45,001 Sequence length is 100\n",
      "2020-04-11 15:08:45,110 Split 3\t - (15:08:45)\n",
      "2020-04-11 15:09:27,165 | split   3 /  3 |   100/ 1350 batches | ms/batch 420.54 | loss  0.47 | ppl     1.59\n",
      "2020-04-11 15:10:08,825 | split   3 /  3 |   200/ 1350 batches | ms/batch 416.59 | loss  0.44 | ppl     1.55\n",
      "2020-04-11 15:10:50,490 | split   3 /  3 |   300/ 1350 batches | ms/batch 416.65 | loss  0.44 | ppl     1.56\n",
      "2020-04-11 15:11:32,140 | split   3 /  3 |   400/ 1350 batches | ms/batch 416.49 | loss  0.43 | ppl     1.54\n",
      "2020-04-11 15:12:13,799 | split   3 /  3 |   500/ 1350 batches | ms/batch 416.58 | loss  0.43 | ppl     1.54\n",
      "2020-04-11 15:12:55,438 | split   3 /  3 |   600/ 1350 batches | ms/batch 416.38 | loss  0.43 | ppl     1.54\n",
      "2020-04-11 15:13:37,084 | split   3 /  3 |   700/ 1350 batches | ms/batch 416.45 | loss  0.43 | ppl     1.54\n",
      "2020-04-11 15:14:18,748 | split   3 /  3 |   800/ 1350 batches | ms/batch 416.64 | loss  0.43 | ppl     1.54\n",
      "2020-04-11 15:15:00,432 | split   3 /  3 |   900/ 1350 batches | ms/batch 416.83 | loss  0.44 | ppl     1.55\n",
      "2020-04-11 15:15:42,077 | split   3 /  3 |  1000/ 1350 batches | ms/batch 416.44 | loss  0.43 | ppl     1.53\n",
      "2020-04-11 15:16:23,740 | split   3 /  3 |  1100/ 1350 batches | ms/batch 416.63 | loss  0.43 | ppl     1.53\n",
      "2020-04-11 15:17:05,389 | split   3 /  3 |  1200/ 1350 batches | ms/batch 416.48 | loss  0.43 | ppl     1.53\n",
      "2020-04-11 15:17:47,064 | split   3 /  3 |  1300/ 1350 batches | ms/batch 416.75 | loss  0.43 | ppl     1.54\n",
      "2020-04-11 15:18:07,820 562 seconds for train split 3\n",
      "2020-04-11 15:18:35,181 best loss so far  0.70\n",
      "2020-04-11 15:18:37,741 ('\\nThe other group , one of whom met on treatment for a National Cancer Institute - Common Terminology Criteria ( Cerebral Deterioration Scale , watchful waiting )  .  Inclusion Criteria : - Participants with colorectal adenocarcinoma tumors can withscular , liver and / or lung - Patients must sign an informed consent - signed informed consent form - Co - morbidities that require medical history and follow - up visits and completion of patient and provide written informed consent Exclusion Criteria : - Premenopausal if the patient has a history of another malignancy within the last 5 years , with the exception of nonmelanoma skin cancer . - Untreated brain metastases . - Clinical significant comorbidities which may interfere with the patients regular medical and gastrointestinal tract diseases . - Requirement for ongoing treatment and substantial not prescribed . Premenopausal women tend to be at least 18 years of age . - History of prior malignancy . - Subject is currently enrolled in an', 22.953201171875)\n",
      "2020-04-11 15:18:37,915 -----------------------------------------------------------------------------------------\n",
      "2020-04-11 15:18:37,916 | end of split   3 /  3 | epoch   8 | time: 592.91s | valid loss  0.79 | valid ppl     2.20 | learning rate 20.0000\n",
      "2020-04-11 15:18:37,917 -----------------------------------------------------------------------------------------\n",
      "2020-04-11 15:18:38,183 Epoch time: 1386.29\n",
      "2020-04-11 15:19:09,820 Sequence length is 100\n",
      "2020-04-11 15:19:09,861 Split 1\t - (15:19:09)\n",
      "2020-04-11 15:19:51,712 | split   1 /  3 |   100/  397 batches | ms/batch 418.36 | loss  0.50 | ppl     1.65\n",
      "2020-04-11 15:20:33,197 | split   1 /  3 |   200/  397 batches | ms/batch 414.84 | loss  0.49 | ppl     1.63\n",
      "2020-04-11 15:21:14,732 | split   1 /  3 |   300/  397 batches | ms/batch 415.34 | loss  0.49 | ppl     1.62\n",
      "2020-04-11 15:21:54,740 164 seconds for train split 1\n",
      "2020-04-11 15:22:21,969 best loss so far  0.70\n"
     ]
    },
    {
     "name": "stdout",
     "output_type": "stream",
     "text": [
      "2020-04-11 15:22:24,488 ('\\nThe study treatment consists of subjects with hypothesis that it could be a tolerable dose of additional treatment where it should be completed . * This Phase 2 study will assess research assessments assessing time to progression free survival at 3 month in the Phase 1 portion of the study comparing the effect of neoadjuvant trastuzumab and vadically translated worse perceptions to drugs used in chemotherapy and radiation therapy ( HRT ) as appropriate for its genotype , amplification , and stratification indicators with clinical and biological characteristics at two time points . - Systematic prostate brachytherapy , safety , pharmacokinetic ( PD ) and pharmacodynamic toxicity when added to maintenance APBI - 999 in subjects with metastatic colorectal cancer .  .  This study intently analyzes the efficacy and safety of LEE011 - MiRO - PET and MESEPARA . In patients with NSCLC , the primary objective of this study is to determine progression free survival in subjects with castrate resi', 21.8219296875)\n",
      "2020-04-11 15:22:24,662 -----------------------------------------------------------------------------------------\n",
      "2020-04-11 15:22:24,663 | end of split   1 /  3 | epoch   9 | time: 194.84s | valid loss  0.73 | valid ppl     2.09 | learning rate 20.0000\n",
      "2020-04-11 15:22:24,664 -----------------------------------------------------------------------------------------\n",
      "2020-04-11 15:22:24,669 Sequence length is 100\n",
      "2020-04-11 15:22:24,778 Split 2\t - (15:22:24)\n",
      "2020-04-11 15:23:06,812 | split   2 /  3 |   100/ 1350 batches | ms/batch 420.33 | loss  0.44 | ppl     1.55\n",
      "2020-04-11 15:23:48,440 | split   2 /  3 |   200/ 1350 batches | ms/batch 416.27 | loss  0.42 | ppl     1.52\n",
      "2020-04-11 15:24:30,072 | split   2 /  3 |   300/ 1350 batches | ms/batch 416.31 | loss  0.42 | ppl     1.53\n",
      "2020-04-11 15:25:11,705 | split   2 /  3 |   400/ 1350 batches | ms/batch 416.33 | loss  0.42 | ppl     1.52\n",
      "2020-04-11 15:25:53,332 | split   2 /  3 |   500/ 1350 batches | ms/batch 416.26 | loss  0.41 | ppl     1.51\n",
      "2020-04-11 15:26:34,963 | split   2 /  3 |   600/ 1350 batches | ms/batch 416.30 | loss  0.41 | ppl     1.51\n",
      "2020-04-11 15:27:16,593 | split   2 /  3 |   700/ 1350 batches | ms/batch 416.30 | loss  0.41 | ppl     1.51\n",
      "2020-04-11 15:27:58,210 | split   2 /  3 |   800/ 1350 batches | ms/batch 416.16 | loss  0.42 | ppl     1.52\n",
      "2020-04-11 15:28:39,839 | split   2 /  3 |   900/ 1350 batches | ms/batch 416.28 | loss  0.43 | ppl     1.53\n",
      "2020-04-11 15:29:21,468 | split   2 /  3 |  1000/ 1350 batches | ms/batch 416.29 | loss  0.41 | ppl     1.51\n",
      "2020-04-11 15:30:03,100 | split   2 /  3 |  1100/ 1350 batches | ms/batch 416.31 | loss  0.41 | ppl     1.51\n",
      "2020-04-11 15:30:44,723 | split   2 /  3 |  1200/ 1350 batches | ms/batch 416.21 | loss  0.41 | ppl     1.51\n",
      "2020-04-11 15:31:26,364 | split   2 /  3 |  1300/ 1350 batches | ms/batch 416.41 | loss  0.42 | ppl     1.52\n"
     ]
    }
   ],
   "source": [
    "from flair.trainers.language_model_trainer import LanguageModelTrainer, TextCorpus\n",
    "\n",
    "\n",
    "# instantiate an existing LM, such as one from the FlairEmbeddings\n",
    "language_model = FlairEmbeddings('news-forward').lm\n",
    "\n",
    "# are you fine-tuning a forward or backward LM?\n",
    "is_forward_lm = language_model.is_forward_lm\n",
    "\n",
    "# get the dictionary from the existing language model\n",
    "dictionary: Dictionary = language_model.dictionary\n",
    "\n",
    "# get your corpus, process forward and at the character level\n",
    "corpus = TextCorpus('./corpus',\n",
    "                    dictionary,\n",
    "                    is_forward_lm,\n",
    "                    character_level=True)\n",
    "\n",
    "# use the model trainer to fine-tune this model on your corpus\n",
    "trainer = LanguageModelTrainer(language_model, corpus)\n",
    "\n",
    "trainer.train('./language_model',\n",
    "              sequence_length=100,\n",
    "              mini_batch_size=100,\n",
    "              learning_rate=20,\n",
    "              patience=10,\n",
    "              checkpoint=True)"
   ]
  },
  {
   "cell_type": "code",
   "execution_count": null,
   "metadata": {},
   "outputs": [],
   "source": []
  },
  {
   "cell_type": "code",
   "execution_count": null,
   "metadata": {},
   "outputs": [],
   "source": []
  },
  {
   "cell_type": "code",
   "execution_count": null,
   "metadata": {},
   "outputs": [],
   "source": []
  },
  {
   "cell_type": "code",
   "execution_count": 51,
   "metadata": {},
   "outputs": [
    {
     "data": {
      "text/plain": [
       "(True, 10000)"
      ]
     },
     "execution_count": 51,
     "metadata": {},
     "output_type": "execute_result"
    }
   ],
   "source": [
    "len(nct_ids) == len(nct_ids2), len(nct_ids)"
   ]
  },
  {
   "cell_type": "code",
   "execution_count": 66,
   "metadata": {},
   "outputs": [
    {
     "data": {
      "image/png": "[encoded data removed]",
      "text/plain": [
       "<Figure size 432x288 with 1 Axes>"
      ]
     },
     "metadata": {},
     "output_type": "display_data"
    }
   ],
   "source": [
    "import matplotlib.pyplot as plt\n",
    "plt.hist([len(x) for x in data2])\n",
    "plt.show()"
   ]
  },
  {
   "cell_type": "code",
   "execution_count": 71,
   "metadata": {},
   "outputs": [
    {
     "data": {
      "image/png": "[encoded data removed]",
      "text/plain": [
       "<Figure size 432x288 with 1 Axes>"
      ]
     },
     "metadata": {},
     "output_type": "display_data"
    }
   ],
   "source": [
    "plt.hist([len(x) for x in data3])\n",
    "plt.show()"
   ]
  },
  {
   "cell_type": "code",
   "execution_count": 72,
   "metadata": {},
   "outputs": [],
   "source": [
    "\n"
   ]
  },
  {
   "cell_type": "code",
   "execution_count": 73,
   "metadata": {},
   "outputs": [],
   "source": [
    "data = [strip_multiple_whitespaces(x) for sublist in data for x in sublist]"
   ]
  },
  {
   "cell_type": "code",
   "execution_count": 74,
   "metadata": {},
   "outputs": [],
   "source": [
    "data2 = [strip_multiple_whitespaces(x) for sublist in data2 for x in sublist]"
   ]
  },
  {
   "cell_type": "code",
   "execution_count": 75,
   "metadata": {},
   "outputs": [],
   "source": [
    "data3 = [strip_multiple_whitespaces(x) for sublist in data3 for x in sublist]"
   ]
  },
  {
   "cell_type": "code",
   "execution_count": 78,
   "metadata": {},
   "outputs": [
    {
     "data": {
      "text/plain": [
       "(9999, 7381, 9999)"
      ]
     },
     "execution_count": 78,
     "metadata": {},
     "output_type": "execute_result"
    }
   ],
   "source": [
    "len(data), len(data2), len(data3)"
   ]
  },
  {
   "cell_type": "code",
   "execution_count": 79,
   "metadata": {},
   "outputs": [],
   "source": [
    "# from gensim.models.fasttext import FastText as FT_gensim\n",
    "# from gensim.test.utils import datapath\n",
    "\n",
    "# # Set file names for train and test data\n",
    "# # corpus_file = datapath('lee_background.cor')\n",
    "\n",
    "# model = FT_gensim(size=100)"
   ]
  },
  {
   "cell_type": "code",
   "execution_count": 85,
   "metadata": {},
   "outputs": [],
   "source": [
    "import fasttext.util\n",
    "import fasttext"
   ]
  },
  {
   "cell_type": "code",
   "execution_count": 87,
   "metadata": {
    "scrolled": true
   },
   "outputs": [],
   "source": [
    "# fasttext.util.download_model('en', if_exists='ignore')"
   ]
  },
  {
   "cell_type": "code",
   "execution_count": null,
   "metadata": {},
   "outputs": [],
   "source": []
  }
 ],
 "metadata": {
  "kernelspec": {
   "display_name": "Python 3",
   "language": "python",
   "name": "python3"
  },
  "language_info": {
   "codemirror_mode": {
    "name": "ipython",
    "version": 3
   },
   "file_extension": ".py",
   "mimetype": "text/x-python",
   "name": "python",
   "nbconvert_exporter": "python",
   "pygments_lexer": "ipython3",
   "version": "3.6.5"
  },
  "toc": {
   "base_numbering": 1,
   "nav_menu": {},
   "number_sections": true,
   "sideBar": true,
   "skip_h1_title": false,
   "title_cell": "Table of Contents",
   "title_sidebar": "Contents",
   "toc_cell": false,
   "toc_position": {},
   "toc_section_display": true,
   "toc_window_display": false
  }
 },
 "nbformat": 4,
 "nbformat_minor": 2
}
